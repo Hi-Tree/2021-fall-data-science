{
 "cells": [
  {
   "cell_type": "markdown",
   "source": [
    "# Exploratory Data Analysis Exercise\n",
    "* For this part we will be using the `data/cars.csv` dataset"
   ],
   "metadata": {}
  },
  {
   "cell_type": "code",
   "execution_count": 5,
   "source": [
    "import pandas as pd\n",
    "import numpy as np\n",
    "import matplotlib.pyplot as plt\n",
    "import seaborn as sns\n",
    "sns.set()\n",
    "\n",
    "%matplotlib inline \n",
    "import scipy.stats as stats\n"
   ],
   "outputs": [],
   "metadata": {}
  },
  {
   "cell_type": "markdown",
   "source": [
    "# Load in the data\n",
    "* Use the file in the data folder called 'cars.csv'\n",
    "* Save it as a varible named 'df'\n",
    "* Display the first 5 rows of our dataframe"
   ],
   "metadata": {}
  },
  {
   "cell_type": "code",
   "execution_count": 6,
   "source": [
    "# Load data\n",
    "df = pd.read_csv('../Week-02-EDA/data/cars.csv')\n",
    "df.head()"
   ],
   "outputs": [
    {
     "output_type": "execute_result",
     "data": {
      "text/plain": [
       "  Make       Model  Year             Engine Fuel Type  Engine HP  \\\n",
       "0  BMW  1 Series M  2011  premium unleaded (required)      335.0   \n",
       "1  BMW    1 Series  2011  premium unleaded (required)      300.0   \n",
       "2  BMW    1 Series  2011  premium unleaded (required)      300.0   \n",
       "3  BMW    1 Series  2011  premium unleaded (required)      230.0   \n",
       "4  BMW    1 Series  2011  premium unleaded (required)      230.0   \n",
       "\n",
       "   Engine Cylinders Transmission Type     Driven_Wheels  Number of Doors  \\\n",
       "0               6.0            MANUAL  rear wheel drive              2.0   \n",
       "1               6.0            MANUAL  rear wheel drive              2.0   \n",
       "2               6.0            MANUAL  rear wheel drive              2.0   \n",
       "3               6.0            MANUAL  rear wheel drive              2.0   \n",
       "4               6.0            MANUAL  rear wheel drive              2.0   \n",
       "\n",
       "  Vehicle Size Vehicle Style  highway MPG  city mpg  Popularity   MSRP  \n",
       "0      Compact         Coupe           26        19        3916  46135  \n",
       "1      Compact   Convertible           28        19        3916  40650  \n",
       "2      Compact         Coupe           28        20        3916  36350  \n",
       "3      Compact         Coupe           28        18        3916  29450  \n",
       "4      Compact   Convertible           28        18        3916  34500  "
      ],
      "text/html": [
       "<div>\n",
       "<style scoped>\n",
       "    .dataframe tbody tr th:only-of-type {\n",
       "        vertical-align: middle;\n",
       "    }\n",
       "\n",
       "    .dataframe tbody tr th {\n",
       "        vertical-align: top;\n",
       "    }\n",
       "\n",
       "    .dataframe thead th {\n",
       "        text-align: right;\n",
       "    }\n",
       "</style>\n",
       "<table border=\"1\" class=\"dataframe\">\n",
       "  <thead>\n",
       "    <tr style=\"text-align: right;\">\n",
       "      <th></th>\n",
       "      <th>Make</th>\n",
       "      <th>Model</th>\n",
       "      <th>Year</th>\n",
       "      <th>Engine Fuel Type</th>\n",
       "      <th>Engine HP</th>\n",
       "      <th>Engine Cylinders</th>\n",
       "      <th>Transmission Type</th>\n",
       "      <th>Driven_Wheels</th>\n",
       "      <th>Number of Doors</th>\n",
       "      <th>Vehicle Size</th>\n",
       "      <th>Vehicle Style</th>\n",
       "      <th>highway MPG</th>\n",
       "      <th>city mpg</th>\n",
       "      <th>Popularity</th>\n",
       "      <th>MSRP</th>\n",
       "    </tr>\n",
       "  </thead>\n",
       "  <tbody>\n",
       "    <tr>\n",
       "      <th>0</th>\n",
       "      <td>BMW</td>\n",
       "      <td>1 Series M</td>\n",
       "      <td>2011</td>\n",
       "      <td>premium unleaded (required)</td>\n",
       "      <td>335.0</td>\n",
       "      <td>6.0</td>\n",
       "      <td>MANUAL</td>\n",
       "      <td>rear wheel drive</td>\n",
       "      <td>2.0</td>\n",
       "      <td>Compact</td>\n",
       "      <td>Coupe</td>\n",
       "      <td>26</td>\n",
       "      <td>19</td>\n",
       "      <td>3916</td>\n",
       "      <td>46135</td>\n",
       "    </tr>\n",
       "    <tr>\n",
       "      <th>1</th>\n",
       "      <td>BMW</td>\n",
       "      <td>1 Series</td>\n",
       "      <td>2011</td>\n",
       "      <td>premium unleaded (required)</td>\n",
       "      <td>300.0</td>\n",
       "      <td>6.0</td>\n",
       "      <td>MANUAL</td>\n",
       "      <td>rear wheel drive</td>\n",
       "      <td>2.0</td>\n",
       "      <td>Compact</td>\n",
       "      <td>Convertible</td>\n",
       "      <td>28</td>\n",
       "      <td>19</td>\n",
       "      <td>3916</td>\n",
       "      <td>40650</td>\n",
       "    </tr>\n",
       "    <tr>\n",
       "      <th>2</th>\n",
       "      <td>BMW</td>\n",
       "      <td>1 Series</td>\n",
       "      <td>2011</td>\n",
       "      <td>premium unleaded (required)</td>\n",
       "      <td>300.0</td>\n",
       "      <td>6.0</td>\n",
       "      <td>MANUAL</td>\n",
       "      <td>rear wheel drive</td>\n",
       "      <td>2.0</td>\n",
       "      <td>Compact</td>\n",
       "      <td>Coupe</td>\n",
       "      <td>28</td>\n",
       "      <td>20</td>\n",
       "      <td>3916</td>\n",
       "      <td>36350</td>\n",
       "    </tr>\n",
       "    <tr>\n",
       "      <th>3</th>\n",
       "      <td>BMW</td>\n",
       "      <td>1 Series</td>\n",
       "      <td>2011</td>\n",
       "      <td>premium unleaded (required)</td>\n",
       "      <td>230.0</td>\n",
       "      <td>6.0</td>\n",
       "      <td>MANUAL</td>\n",
       "      <td>rear wheel drive</td>\n",
       "      <td>2.0</td>\n",
       "      <td>Compact</td>\n",
       "      <td>Coupe</td>\n",
       "      <td>28</td>\n",
       "      <td>18</td>\n",
       "      <td>3916</td>\n",
       "      <td>29450</td>\n",
       "    </tr>\n",
       "    <tr>\n",
       "      <th>4</th>\n",
       "      <td>BMW</td>\n",
       "      <td>1 Series</td>\n",
       "      <td>2011</td>\n",
       "      <td>premium unleaded (required)</td>\n",
       "      <td>230.0</td>\n",
       "      <td>6.0</td>\n",
       "      <td>MANUAL</td>\n",
       "      <td>rear wheel drive</td>\n",
       "      <td>2.0</td>\n",
       "      <td>Compact</td>\n",
       "      <td>Convertible</td>\n",
       "      <td>28</td>\n",
       "      <td>18</td>\n",
       "      <td>3916</td>\n",
       "      <td>34500</td>\n",
       "    </tr>\n",
       "  </tbody>\n",
       "</table>\n",
       "</div>"
      ]
     },
     "metadata": {},
     "execution_count": 6
    }
   ],
   "metadata": {}
  },
  {
   "cell_type": "markdown",
   "source": [
    "# Data clean up part 1.\n",
    "\n",
    "1. Print the number of duplicate rows we have in our dataframe.\n",
    "\n",
    "2. Modify our df to have all duplicate rows removed. \n",
    "\n",
    "3. Do a sanity check to make sure all duplicates have been removed by printing the total number of duplicate rows again."
   ],
   "metadata": {}
  },
  {
   "cell_type": "code",
   "execution_count": 11,
   "source": [
    "# 1. Print the number of duplicate rows we have in our dataframe.\n",
    "num = df.duplicated().sum()\n",
    "print('Number of Duplicates: ', num)\n",
    "\n"
   ],
   "outputs": [
    {
     "output_type": "stream",
     "name": "stdout",
     "text": [
      "Number of Duplicates:  720\n"
     ]
    }
   ],
   "metadata": {}
  },
  {
   "cell_type": "code",
   "execution_count": 4,
   "source": [
    "#  2. Modify our df to have all duplicate rows removed. \n",
    "df = df.drop_duplicates()\n"
   ],
   "outputs": [],
   "metadata": {}
  },
  {
   "cell_type": "code",
   "execution_count": 6,
   "source": [
    "# 3. Do a sanity check to make sure all duplicates have been removed by printing the total number of duplicate rows again.\n",
    "\n"
   ],
   "outputs": [],
   "metadata": {}
  },
  {
   "cell_type": "markdown",
   "source": [
    "# Data clean up part 2.\n",
    "* Which column has the most null values and how many null values does it have?\n",
    "* Print how long our dataframe is.\n",
    "* Remove any row that has a null value in it. \n",
    "* Do a sanity check and pring how long our dataframe is now that we have removed our null values."
   ],
   "metadata": {}
  },
  {
   "cell_type": "code",
   "execution_count": 13,
   "source": [
    "# * Which column has the most null values and how many null values does it have?\n",
    "df.isnull().sum()\n",
    "\n"
   ],
   "outputs": [
    {
     "output_type": "execute_result",
     "data": {
      "text/plain": [
       "Make                  0\n",
       "Model                 0\n",
       "Year                  0\n",
       "Engine Fuel Type      3\n",
       "Engine HP            69\n",
       "Engine Cylinders     30\n",
       "Transmission Type     0\n",
       "Driven_Wheels         0\n",
       "Number of Doors       6\n",
       "Vehicle Size          0\n",
       "Vehicle Style         0\n",
       "highway MPG           0\n",
       "city mpg              0\n",
       "Popularity            0\n",
       "MSRP                  0\n",
       "dtype: int64"
      ]
     },
     "metadata": {},
     "execution_count": 13
    }
   ],
   "metadata": {}
  },
  {
   "cell_type": "code",
   "execution_count": 14,
   "source": [
    "# * Print how long our dataframe is.\n",
    "\n",
    "print(\"Length = \", df.Year.count())"
   ],
   "outputs": [
    {
     "output_type": "stream",
     "name": "stdout",
     "text": [
      "Length =  11914\n"
     ]
    }
   ],
   "metadata": {}
  },
  {
   "cell_type": "code",
   "execution_count": 15,
   "source": [
    "# * Remove any row that has a null value in it. \n",
    "df = df.dropna()\n"
   ],
   "outputs": [],
   "metadata": {}
  },
  {
   "cell_type": "code",
   "execution_count": 16,
   "source": [
    "# * Do a sanity check and pring how long our dataframe is now that we have removed our null values.\n",
    "print(\"New Length = \", df.Year.count())\n"
   ],
   "outputs": [
    {
     "output_type": "stream",
     "name": "stdout",
     "text": [
      "New Length =  11812\n"
     ]
    }
   ],
   "metadata": {}
  },
  {
   "cell_type": "markdown",
   "source": [
    "### Make a bar chart that displays how many times each brand of car appears in this data. \n",
    "_Brand of car is the `Make` of the car._\n",
    "* You can achieve this by using value_counts or by a groupby.  Either is fine with me. "
   ],
   "metadata": {}
  },
  {
   "cell_type": "code",
   "execution_count": 49,
   "source": [
    "# Make a bar chart that displays how many times each brand of car appears in this data. \n",
    "df.groupby('Make')['Make'].count().plot(kind = 'bar')\n",
    "\n"
   ],
   "outputs": [
    {
     "output_type": "execute_result",
     "data": {
      "text/plain": [
       "<AxesSubplot:xlabel='Make'>"
      ]
     },
     "metadata": {},
     "execution_count": 49
    },
    {
     "output_type": "display_data",
     "data": {
      "text/plain": [
       "<Figure size 432x288 with 1 Axes>"
      ],
      "image/svg+xml": "<?xml version=\"1.0\" encoding=\"utf-8\" standalone=\"no\"?>\n<!DOCTYPE svg PUBLIC \"-//W3C//DTD SVG 1.1//EN\"\n  \"http://www.w3.org/Graphics/SVG/1.1/DTD/svg11.dtd\">\n<svg height=\"333.341875pt\" version=\"1.1\" viewBox=\"0 0 384.636345 333.341875\" width=\"384.636345pt\" xmlns=\"http://www.w3.org/2000/svg\" xmlns:xlink=\"http://www.w3.org/1999/xlink\">\n <metadata>\n  <rdf:RDF xmlns:cc=\"http://creativecommons.org/ns#\" xmlns:dc=\"http://purl.org/dc/elements/1.1/\" xmlns:rdf=\"http://www.w3.org/1999/02/22-rdf-syntax-ns#\">\n   <cc:Work>\n    <dc:type rdf:resource=\"http://purl.org/dc/dcmitype/StillImage\"/>\n    <dc:date>2021-09-16T21:15:02.545765</dc:date>\n    <dc:format>image/svg+xml</dc:format>\n    <dc:creator>\n     <cc:Agent>\n      <dc:title>Matplotlib v3.4.3, https://matplotlib.org/</dc:title>\n     </cc:Agent>\n    </dc:creator>\n   </cc:Work>\n  </rdf:RDF>\n </metadata>\n <defs>\n  <style type=\"text/css\">*{stroke-linecap:butt;stroke-linejoin:round;}</style>\n </defs>\n <g id=\"figure_1\">\n  <g id=\"patch_1\">\n   <path d=\"M 0 333.341875 \nL 384.636345 333.341875 \nL 384.636345 0 \nL 0 0 \nz\n\" style=\"fill:none;\"/>\n  </g>\n  <g id=\"axes_1\">\n   <g id=\"patch_2\">\n    <path d=\"M 41.168125 224.64 \nL 375.968125 224.64 \nL 375.968125 7.2 \nL 41.168125 7.2 \nz\n\" style=\"fill:#eaeaf2;\"/>\n   </g>\n   <g id=\"matplotlib.axis_1\">\n    <g id=\"xtick_1\">\n     <g id=\"line2d_1\">\n      <path clip-path=\"url(#pf61c592a7f)\" d=\"M 44.729827 224.64 \nL 44.729827 7.2 \n\" style=\"fill:none;stroke:#ffffff;stroke-linecap:round;\"/>\n     </g>\n     <g id=\"text_1\">\n      <!-- Acura -->\n      <g style=\"fill:#262626;\" transform=\"translate(47.573499 262.874062)rotate(-90)scale(0.11 -0.11)\">\n       <defs>\n        <path d=\"M -9 0 \nL 1750 4581 \nL 2403 4581 \nL 4278 0 \nL 3588 0 \nL 3053 1388 \nL 1138 1388 \nL 634 0 \nL -9 0 \nz\nM 1313 1881 \nL 2866 1881 \nL 2388 3150 \nQ 2169 3728 2063 4100 \nQ 1975 3659 1816 3225 \nL 1313 1881 \nz\n\" id=\"ArialMT-41\" transform=\"scale(0.015625)\"/>\n        <path d=\"M 2588 1216 \nL 3141 1144 \nQ 3050 572 2676 248 \nQ 2303 -75 1759 -75 \nQ 1078 -75 664 370 \nQ 250 816 250 1647 \nQ 250 2184 428 2587 \nQ 606 2991 970 3192 \nQ 1334 3394 1763 3394 \nQ 2303 3394 2647 3120 \nQ 2991 2847 3088 2344 \nL 2541 2259 \nQ 2463 2594 2264 2762 \nQ 2066 2931 1784 2931 \nQ 1359 2931 1093 2626 \nQ 828 2322 828 1663 \nQ 828 994 1084 691 \nQ 1341 388 1753 388 \nQ 2084 388 2306 591 \nQ 2528 794 2588 1216 \nz\n\" id=\"ArialMT-63\" transform=\"scale(0.015625)\"/>\n        <path d=\"M 2597 0 \nL 2597 488 \nQ 2209 -75 1544 -75 \nQ 1250 -75 995 37 \nQ 741 150 617 320 \nQ 494 491 444 738 \nQ 409 903 409 1263 \nL 409 3319 \nL 972 3319 \nL 972 1478 \nQ 972 1038 1006 884 \nQ 1059 663 1231 536 \nQ 1403 409 1656 409 \nQ 1909 409 2131 539 \nQ 2353 669 2445 892 \nQ 2538 1116 2538 1541 \nL 2538 3319 \nL 3100 3319 \nL 3100 0 \nL 2597 0 \nz\n\" id=\"ArialMT-75\" transform=\"scale(0.015625)\"/>\n        <path d=\"M 416 0 \nL 416 3319 \nL 922 3319 \nL 922 2816 \nQ 1116 3169 1280 3281 \nQ 1444 3394 1641 3394 \nQ 1925 3394 2219 3213 \nL 2025 2691 \nQ 1819 2813 1613 2813 \nQ 1428 2813 1281 2702 \nQ 1134 2591 1072 2394 \nQ 978 2094 978 1738 \nL 978 0 \nL 416 0 \nz\n\" id=\"ArialMT-72\" transform=\"scale(0.015625)\"/>\n        <path d=\"M 2588 409 \nQ 2275 144 1986 34 \nQ 1697 -75 1366 -75 \nQ 819 -75 525 192 \nQ 231 459 231 875 \nQ 231 1119 342 1320 \nQ 453 1522 633 1644 \nQ 813 1766 1038 1828 \nQ 1203 1872 1538 1913 \nQ 2219 1994 2541 2106 \nQ 2544 2222 2544 2253 \nQ 2544 2597 2384 2738 \nQ 2169 2928 1744 2928 \nQ 1347 2928 1158 2789 \nQ 969 2650 878 2297 \nL 328 2372 \nQ 403 2725 575 2942 \nQ 747 3159 1072 3276 \nQ 1397 3394 1825 3394 \nQ 2250 3394 2515 3294 \nQ 2781 3194 2906 3042 \nQ 3031 2891 3081 2659 \nQ 3109 2516 3109 2141 \nL 3109 1391 \nQ 3109 606 3145 398 \nQ 3181 191 3288 0 \nL 2700 0 \nQ 2613 175 2588 409 \nz\nM 2541 1666 \nQ 2234 1541 1622 1453 \nQ 1275 1403 1131 1340 \nQ 988 1278 909 1158 \nQ 831 1038 831 891 \nQ 831 666 1001 516 \nQ 1172 366 1500 366 \nQ 1825 366 2078 508 \nQ 2331 650 2450 897 \nQ 2541 1088 2541 1459 \nL 2541 1666 \nz\n\" id=\"ArialMT-61\" transform=\"scale(0.015625)\"/>\n       </defs>\n       <use xlink:href=\"#ArialMT-41\"/>\n       <use x=\"66.699219\" xlink:href=\"#ArialMT-63\"/>\n       <use x=\"116.699219\" xlink:href=\"#ArialMT-75\"/>\n       <use x=\"172.314453\" xlink:href=\"#ArialMT-72\"/>\n       <use x=\"205.615234\" xlink:href=\"#ArialMT-61\"/>\n      </g>\n     </g>\n    </g>\n    <g id=\"xtick_2\">\n     <g id=\"line2d_2\">\n      <path clip-path=\"url(#pf61c592a7f)\" d=\"M 51.853231 224.64 \nL 51.853231 7.2 \n\" style=\"fill:none;stroke:#ffffff;stroke-linecap:round;\"/>\n     </g>\n     <g id=\"text_2\">\n      <!-- Alfa Romeo -->\n      <g style=\"fill:#262626;\" transform=\"translate(54.696903 291.608125)rotate(-90)scale(0.11 -0.11)\">\n       <defs>\n        <path d=\"M 409 0 \nL 409 4581 \nL 972 4581 \nL 972 0 \nL 409 0 \nz\n\" id=\"ArialMT-6c\" transform=\"scale(0.015625)\"/>\n        <path d=\"M 556 0 \nL 556 2881 \nL 59 2881 \nL 59 3319 \nL 556 3319 \nL 556 3672 \nQ 556 4006 616 4169 \nQ 697 4388 901 4523 \nQ 1106 4659 1475 4659 \nQ 1713 4659 2000 4603 \nL 1916 4113 \nQ 1741 4144 1584 4144 \nQ 1328 4144 1222 4034 \nQ 1116 3925 1116 3625 \nL 1116 3319 \nL 1763 3319 \nL 1763 2881 \nL 1116 2881 \nL 1116 0 \nL 556 0 \nz\n\" id=\"ArialMT-66\" transform=\"scale(0.015625)\"/>\n        <path id=\"ArialMT-20\" transform=\"scale(0.015625)\"/>\n        <path d=\"M 503 0 \nL 503 4581 \nL 2534 4581 \nQ 3147 4581 3465 4457 \nQ 3784 4334 3975 4021 \nQ 4166 3709 4166 3331 \nQ 4166 2844 3850 2509 \nQ 3534 2175 2875 2084 \nQ 3116 1969 3241 1856 \nQ 3506 1613 3744 1247 \nL 4541 0 \nL 3778 0 \nL 3172 953 \nQ 2906 1366 2734 1584 \nQ 2563 1803 2427 1890 \nQ 2291 1978 2150 2013 \nQ 2047 2034 1813 2034 \nL 1109 2034 \nL 1109 0 \nL 503 0 \nz\nM 1109 2559 \nL 2413 2559 \nQ 2828 2559 3062 2645 \nQ 3297 2731 3419 2920 \nQ 3541 3109 3541 3331 \nQ 3541 3656 3305 3865 \nQ 3069 4075 2559 4075 \nL 1109 4075 \nL 1109 2559 \nz\n\" id=\"ArialMT-52\" transform=\"scale(0.015625)\"/>\n        <path d=\"M 213 1659 \nQ 213 2581 725 3025 \nQ 1153 3394 1769 3394 \nQ 2453 3394 2887 2945 \nQ 3322 2497 3322 1706 \nQ 3322 1066 3130 698 \nQ 2938 331 2570 128 \nQ 2203 -75 1769 -75 \nQ 1072 -75 642 372 \nQ 213 819 213 1659 \nz\nM 791 1659 \nQ 791 1022 1069 705 \nQ 1347 388 1769 388 \nQ 2188 388 2466 706 \nQ 2744 1025 2744 1678 \nQ 2744 2294 2464 2611 \nQ 2184 2928 1769 2928 \nQ 1347 2928 1069 2612 \nQ 791 2297 791 1659 \nz\n\" id=\"ArialMT-6f\" transform=\"scale(0.015625)\"/>\n        <path d=\"M 422 0 \nL 422 3319 \nL 925 3319 \nL 925 2853 \nQ 1081 3097 1340 3245 \nQ 1600 3394 1931 3394 \nQ 2300 3394 2536 3241 \nQ 2772 3088 2869 2813 \nQ 3263 3394 3894 3394 \nQ 4388 3394 4653 3120 \nQ 4919 2847 4919 2278 \nL 4919 0 \nL 4359 0 \nL 4359 2091 \nQ 4359 2428 4304 2576 \nQ 4250 2725 4106 2815 \nQ 3963 2906 3769 2906 \nQ 3419 2906 3187 2673 \nQ 2956 2441 2956 1928 \nL 2956 0 \nL 2394 0 \nL 2394 2156 \nQ 2394 2531 2256 2718 \nQ 2119 2906 1806 2906 \nQ 1569 2906 1367 2781 \nQ 1166 2656 1075 2415 \nQ 984 2175 984 1722 \nL 984 0 \nL 422 0 \nz\n\" id=\"ArialMT-6d\" transform=\"scale(0.015625)\"/>\n        <path d=\"M 2694 1069 \nL 3275 997 \nQ 3138 488 2766 206 \nQ 2394 -75 1816 -75 \nQ 1088 -75 661 373 \nQ 234 822 234 1631 \nQ 234 2469 665 2931 \nQ 1097 3394 1784 3394 \nQ 2450 3394 2872 2941 \nQ 3294 2488 3294 1666 \nQ 3294 1616 3291 1516 \nL 816 1516 \nQ 847 969 1125 678 \nQ 1403 388 1819 388 \nQ 2128 388 2347 550 \nQ 2566 713 2694 1069 \nz\nM 847 1978 \nL 2700 1978 \nQ 2663 2397 2488 2606 \nQ 2219 2931 1791 2931 \nQ 1403 2931 1139 2672 \nQ 875 2413 847 1978 \nz\n\" id=\"ArialMT-65\" transform=\"scale(0.015625)\"/>\n       </defs>\n       <use xlink:href=\"#ArialMT-41\"/>\n       <use x=\"66.699219\" xlink:href=\"#ArialMT-6c\"/>\n       <use x=\"88.916016\" xlink:href=\"#ArialMT-66\"/>\n       <use x=\"116.699219\" xlink:href=\"#ArialMT-61\"/>\n       <use x=\"172.314453\" xlink:href=\"#ArialMT-20\"/>\n       <use x=\"200.097656\" xlink:href=\"#ArialMT-52\"/>\n       <use x=\"272.314453\" xlink:href=\"#ArialMT-6f\"/>\n       <use x=\"327.929688\" xlink:href=\"#ArialMT-6d\"/>\n       <use x=\"411.230469\" xlink:href=\"#ArialMT-65\"/>\n       <use x=\"466.845703\" xlink:href=\"#ArialMT-6f\"/>\n      </g>\n     </g>\n    </g>\n    <g id=\"xtick_3\">\n     <g id=\"line2d_3\">\n      <path clip-path=\"url(#pf61c592a7f)\" d=\"M 58.976636 224.64 \nL 58.976636 7.2 \n\" style=\"fill:none;stroke:#ffffff;stroke-linecap:round;\"/>\n     </g>\n     <g id=\"text_3\">\n      <!-- Aston Martin -->\n      <g style=\"fill:#262626;\" transform=\"translate(61.820308 295.882656)rotate(-90)scale(0.11 -0.11)\">\n       <defs>\n        <path d=\"M 197 991 \nL 753 1078 \nQ 800 744 1014 566 \nQ 1228 388 1613 388 \nQ 2000 388 2187 545 \nQ 2375 703 2375 916 \nQ 2375 1106 2209 1216 \nQ 2094 1291 1634 1406 \nQ 1016 1563 777 1677 \nQ 538 1791 414 1992 \nQ 291 2194 291 2438 \nQ 291 2659 392 2848 \nQ 494 3038 669 3163 \nQ 800 3259 1026 3326 \nQ 1253 3394 1513 3394 \nQ 1903 3394 2198 3281 \nQ 2494 3169 2634 2976 \nQ 2775 2784 2828 2463 \nL 2278 2388 \nQ 2241 2644 2061 2787 \nQ 1881 2931 1553 2931 \nQ 1166 2931 1000 2803 \nQ 834 2675 834 2503 \nQ 834 2394 903 2306 \nQ 972 2216 1119 2156 \nQ 1203 2125 1616 2013 \nQ 2213 1853 2448 1751 \nQ 2684 1650 2818 1456 \nQ 2953 1263 2953 975 \nQ 2953 694 2789 445 \nQ 2625 197 2315 61 \nQ 2006 -75 1616 -75 \nQ 969 -75 630 194 \nQ 291 463 197 991 \nz\n\" id=\"ArialMT-73\" transform=\"scale(0.015625)\"/>\n        <path d=\"M 1650 503 \nL 1731 6 \nQ 1494 -44 1306 -44 \nQ 1000 -44 831 53 \nQ 663 150 594 308 \nQ 525 466 525 972 \nL 525 2881 \nL 113 2881 \nL 113 3319 \nL 525 3319 \nL 525 4141 \nL 1084 4478 \nL 1084 3319 \nL 1650 3319 \nL 1650 2881 \nL 1084 2881 \nL 1084 941 \nQ 1084 700 1114 631 \nQ 1144 563 1211 522 \nQ 1278 481 1403 481 \nQ 1497 481 1650 503 \nz\n\" id=\"ArialMT-74\" transform=\"scale(0.015625)\"/>\n        <path d=\"M 422 0 \nL 422 3319 \nL 928 3319 \nL 928 2847 \nQ 1294 3394 1984 3394 \nQ 2284 3394 2536 3286 \nQ 2788 3178 2913 3003 \nQ 3038 2828 3088 2588 \nQ 3119 2431 3119 2041 \nL 3119 0 \nL 2556 0 \nL 2556 2019 \nQ 2556 2363 2490 2533 \nQ 2425 2703 2258 2804 \nQ 2091 2906 1866 2906 \nQ 1506 2906 1245 2678 \nQ 984 2450 984 1813 \nL 984 0 \nL 422 0 \nz\n\" id=\"ArialMT-6e\" transform=\"scale(0.015625)\"/>\n        <path d=\"M 475 0 \nL 475 4581 \nL 1388 4581 \nL 2472 1338 \nQ 2622 884 2691 659 \nQ 2769 909 2934 1394 \nL 4031 4581 \nL 4847 4581 \nL 4847 0 \nL 4263 0 \nL 4263 3834 \nL 2931 0 \nL 2384 0 \nL 1059 3900 \nL 1059 0 \nL 475 0 \nz\n\" id=\"ArialMT-4d\" transform=\"scale(0.015625)\"/>\n        <path d=\"M 425 3934 \nL 425 4581 \nL 988 4581 \nL 988 3934 \nL 425 3934 \nz\nM 425 0 \nL 425 3319 \nL 988 3319 \nL 988 0 \nL 425 0 \nz\n\" id=\"ArialMT-69\" transform=\"scale(0.015625)\"/>\n       </defs>\n       <use xlink:href=\"#ArialMT-41\"/>\n       <use x=\"66.699219\" xlink:href=\"#ArialMT-73\"/>\n       <use x=\"116.699219\" xlink:href=\"#ArialMT-74\"/>\n       <use x=\"144.482422\" xlink:href=\"#ArialMT-6f\"/>\n       <use x=\"200.097656\" xlink:href=\"#ArialMT-6e\"/>\n       <use x=\"255.712891\" xlink:href=\"#ArialMT-20\"/>\n       <use x=\"283.496094\" xlink:href=\"#ArialMT-4d\"/>\n       <use x=\"366.796875\" xlink:href=\"#ArialMT-61\"/>\n       <use x=\"422.412109\" xlink:href=\"#ArialMT-72\"/>\n       <use x=\"455.712891\" xlink:href=\"#ArialMT-74\"/>\n       <use x=\"483.496094\" xlink:href=\"#ArialMT-69\"/>\n       <use x=\"505.712891\" xlink:href=\"#ArialMT-6e\"/>\n      </g>\n     </g>\n    </g>\n    <g id=\"xtick_4\">\n     <g id=\"line2d_4\">\n      <path clip-path=\"url(#pf61c592a7f)\" d=\"M 66.10004 224.64 \nL 66.10004 7.2 \n\" style=\"fill:none;stroke:#ffffff;stroke-linecap:round;\"/>\n     </g>\n     <g id=\"text_4\">\n      <!-- Audi -->\n      <g style=\"fill:#262626;\" transform=\"translate(68.943712 256.155469)rotate(-90)scale(0.11 -0.11)\">\n       <defs>\n        <path d=\"M 2575 0 \nL 2575 419 \nQ 2259 -75 1647 -75 \nQ 1250 -75 917 144 \nQ 584 363 401 755 \nQ 219 1147 219 1656 \nQ 219 2153 384 2558 \nQ 550 2963 881 3178 \nQ 1213 3394 1622 3394 \nQ 1922 3394 2156 3267 \nQ 2391 3141 2538 2938 \nL 2538 4581 \nL 3097 4581 \nL 3097 0 \nL 2575 0 \nz\nM 797 1656 \nQ 797 1019 1065 703 \nQ 1334 388 1700 388 \nQ 2069 388 2326 689 \nQ 2584 991 2584 1609 \nQ 2584 2291 2321 2609 \nQ 2059 2928 1675 2928 \nQ 1300 2928 1048 2622 \nQ 797 2316 797 1656 \nz\n\" id=\"ArialMT-64\" transform=\"scale(0.015625)\"/>\n       </defs>\n       <use xlink:href=\"#ArialMT-41\"/>\n       <use x=\"66.699219\" xlink:href=\"#ArialMT-75\"/>\n       <use x=\"122.314453\" xlink:href=\"#ArialMT-64\"/>\n       <use x=\"177.929688\" xlink:href=\"#ArialMT-69\"/>\n      </g>\n     </g>\n    </g>\n    <g id=\"xtick_5\">\n     <g id=\"line2d_5\">\n      <path clip-path=\"url(#pf61c592a7f)\" d=\"M 73.223444 224.64 \nL 73.223444 7.2 \n\" style=\"fill:none;stroke:#ffffff;stroke-linecap:round;\"/>\n     </g>\n     <g id=\"text_5\">\n      <!-- BMW -->\n      <g style=\"fill:#262626;\" transform=\"translate(76.067116 261.022969)rotate(-90)scale(0.11 -0.11)\">\n       <defs>\n        <path d=\"M 469 0 \nL 469 4581 \nL 2188 4581 \nQ 2713 4581 3030 4442 \nQ 3347 4303 3526 4014 \nQ 3706 3725 3706 3409 \nQ 3706 3116 3547 2856 \nQ 3388 2597 3066 2438 \nQ 3481 2316 3704 2022 \nQ 3928 1728 3928 1328 \nQ 3928 1006 3792 729 \nQ 3656 453 3456 303 \nQ 3256 153 2954 76 \nQ 2653 0 2216 0 \nL 469 0 \nz\nM 1075 2656 \nL 2066 2656 \nQ 2469 2656 2644 2709 \nQ 2875 2778 2992 2937 \nQ 3109 3097 3109 3338 \nQ 3109 3566 3000 3739 \nQ 2891 3913 2687 3977 \nQ 2484 4041 1991 4041 \nL 1075 4041 \nL 1075 2656 \nz\nM 1075 541 \nL 2216 541 \nQ 2509 541 2628 563 \nQ 2838 600 2978 687 \nQ 3119 775 3209 942 \nQ 3300 1109 3300 1328 \nQ 3300 1584 3169 1773 \nQ 3038 1963 2805 2039 \nQ 2572 2116 2134 2116 \nL 1075 2116 \nL 1075 541 \nz\n\" id=\"ArialMT-42\" transform=\"scale(0.015625)\"/>\n        <path d=\"M 1294 0 \nL 78 4581 \nL 700 4581 \nL 1397 1578 \nQ 1509 1106 1591 641 \nQ 1766 1375 1797 1488 \nL 2669 4581 \nL 3400 4581 \nL 4056 2263 \nQ 4303 1400 4413 641 \nQ 4500 1075 4641 1638 \nL 5359 4581 \nL 5969 4581 \nL 4713 0 \nL 4128 0 \nL 3163 3491 \nQ 3041 3928 3019 4028 \nQ 2947 3713 2884 3491 \nL 1913 0 \nL 1294 0 \nz\n\" id=\"ArialMT-57\" transform=\"scale(0.015625)\"/>\n       </defs>\n       <use xlink:href=\"#ArialMT-42\"/>\n       <use x=\"66.699219\" xlink:href=\"#ArialMT-4d\"/>\n       <use x=\"150\" xlink:href=\"#ArialMT-57\"/>\n      </g>\n     </g>\n    </g>\n    <g id=\"xtick_6\">\n     <g id=\"line2d_6\">\n      <path clip-path=\"url(#pf61c592a7f)\" d=\"M 80.346848 224.64 \nL 80.346848 7.2 \n\" style=\"fill:none;stroke:#ffffff;stroke-linecap:round;\"/>\n     </g>\n     <g id=\"text_6\">\n      <!-- Bentley -->\n      <g style=\"fill:#262626;\" transform=\"translate(83.126067 270.828437)rotate(-90)scale(0.11 -0.11)\">\n       <defs>\n        <path d=\"M 397 -1278 \nL 334 -750 \nQ 519 -800 656 -800 \nQ 844 -800 956 -737 \nQ 1069 -675 1141 -563 \nQ 1194 -478 1313 -144 \nQ 1328 -97 1363 -6 \nL 103 3319 \nL 709 3319 \nL 1400 1397 \nQ 1534 1031 1641 628 \nQ 1738 1016 1872 1384 \nL 2581 3319 \nL 3144 3319 \nL 1881 -56 \nQ 1678 -603 1566 -809 \nQ 1416 -1088 1222 -1217 \nQ 1028 -1347 759 -1347 \nQ 597 -1347 397 -1278 \nz\n\" id=\"ArialMT-79\" transform=\"scale(0.015625)\"/>\n       </defs>\n       <use xlink:href=\"#ArialMT-42\"/>\n       <use x=\"66.699219\" xlink:href=\"#ArialMT-65\"/>\n       <use x=\"122.314453\" xlink:href=\"#ArialMT-6e\"/>\n       <use x=\"177.929688\" xlink:href=\"#ArialMT-74\"/>\n       <use x=\"205.712891\" xlink:href=\"#ArialMT-6c\"/>\n       <use x=\"227.929688\" xlink:href=\"#ArialMT-65\"/>\n       <use x=\"283.544922\" xlink:href=\"#ArialMT-79\"/>\n      </g>\n     </g>\n    </g>\n    <g id=\"xtick_7\">\n     <g id=\"line2d_7\">\n      <path clip-path=\"url(#pf61c592a7f)\" d=\"M 87.470253 224.64 \nL 87.470253 7.2 \n\" style=\"fill:none;stroke:#ffffff;stroke-linecap:round;\"/>\n     </g>\n     <g id=\"text_7\">\n      <!-- Bugatti -->\n      <g style=\"fill:#262626;\" transform=\"translate(90.249471 268.384375)rotate(-90)scale(0.11 -0.11)\">\n       <defs>\n        <path d=\"M 319 -275 \nL 866 -356 \nQ 900 -609 1056 -725 \nQ 1266 -881 1628 -881 \nQ 2019 -881 2231 -725 \nQ 2444 -569 2519 -288 \nQ 2563 -116 2559 434 \nQ 2191 0 1641 0 \nQ 956 0 581 494 \nQ 206 988 206 1678 \nQ 206 2153 378 2554 \nQ 550 2956 876 3175 \nQ 1203 3394 1644 3394 \nQ 2231 3394 2613 2919 \nL 2613 3319 \nL 3131 3319 \nL 3131 450 \nQ 3131 -325 2973 -648 \nQ 2816 -972 2473 -1159 \nQ 2131 -1347 1631 -1347 \nQ 1038 -1347 672 -1080 \nQ 306 -813 319 -275 \nz\nM 784 1719 \nQ 784 1066 1043 766 \nQ 1303 466 1694 466 \nQ 2081 466 2343 764 \nQ 2606 1063 2606 1700 \nQ 2606 2309 2336 2618 \nQ 2066 2928 1684 2928 \nQ 1309 2928 1046 2623 \nQ 784 2319 784 1719 \nz\n\" id=\"ArialMT-67\" transform=\"scale(0.015625)\"/>\n       </defs>\n       <use xlink:href=\"#ArialMT-42\"/>\n       <use x=\"66.699219\" xlink:href=\"#ArialMT-75\"/>\n       <use x=\"122.314453\" xlink:href=\"#ArialMT-67\"/>\n       <use x=\"177.929688\" xlink:href=\"#ArialMT-61\"/>\n       <use x=\"233.544922\" xlink:href=\"#ArialMT-74\"/>\n       <use x=\"261.328125\" xlink:href=\"#ArialMT-74\"/>\n       <use x=\"289.111328\" xlink:href=\"#ArialMT-69\"/>\n      </g>\n     </g>\n    </g>\n    <g id=\"xtick_8\">\n     <g id=\"line2d_8\">\n      <path clip-path=\"url(#pf61c592a7f)\" d=\"M 94.593657 224.64 \nL 94.593657 7.2 \n\" style=\"fill:none;stroke:#ffffff;stroke-linecap:round;\"/>\n     </g>\n     <g id=\"text_8\">\n      <!-- Buick -->\n      <g style=\"fill:#262626;\" transform=\"translate(97.437329 261.038437)rotate(-90)scale(0.11 -0.11)\">\n       <defs>\n        <path d=\"M 425 0 \nL 425 4581 \nL 988 4581 \nL 988 1969 \nL 2319 3319 \nL 3047 3319 \nL 1778 2088 \nL 3175 0 \nL 2481 0 \nL 1384 1697 \nL 988 1316 \nL 988 0 \nL 425 0 \nz\n\" id=\"ArialMT-6b\" transform=\"scale(0.015625)\"/>\n       </defs>\n       <use xlink:href=\"#ArialMT-42\"/>\n       <use x=\"66.699219\" xlink:href=\"#ArialMT-75\"/>\n       <use x=\"122.314453\" xlink:href=\"#ArialMT-69\"/>\n       <use x=\"144.53125\" xlink:href=\"#ArialMT-63\"/>\n       <use x=\"194.53125\" xlink:href=\"#ArialMT-6b\"/>\n      </g>\n     </g>\n    </g>\n    <g id=\"xtick_9\">\n     <g id=\"line2d_9\">\n      <path clip-path=\"url(#pf61c592a7f)\" d=\"M 101.717061 224.64 \nL 101.717061 7.2 \n\" style=\"fill:none;stroke:#ffffff;stroke-linecap:round;\"/>\n     </g>\n     <g id=\"text_9\">\n      <!-- Cadillac -->\n      <g style=\"fill:#262626;\" transform=\"translate(104.560733 273.267344)rotate(-90)scale(0.11 -0.11)\">\n       <defs>\n        <path d=\"M 3763 1606 \nL 4369 1453 \nQ 4178 706 3683 314 \nQ 3188 -78 2472 -78 \nQ 1731 -78 1267 223 \nQ 803 525 561 1097 \nQ 319 1669 319 2325 \nQ 319 3041 592 3573 \nQ 866 4106 1370 4382 \nQ 1875 4659 2481 4659 \nQ 3169 4659 3637 4309 \nQ 4106 3959 4291 3325 \nL 3694 3184 \nQ 3534 3684 3231 3912 \nQ 2928 4141 2469 4141 \nQ 1941 4141 1586 3887 \nQ 1231 3634 1087 3207 \nQ 944 2781 944 2328 \nQ 944 1744 1114 1308 \nQ 1284 872 1643 656 \nQ 2003 441 2422 441 \nQ 2931 441 3284 734 \nQ 3638 1028 3763 1606 \nz\n\" id=\"ArialMT-43\" transform=\"scale(0.015625)\"/>\n       </defs>\n       <use xlink:href=\"#ArialMT-43\"/>\n       <use x=\"72.216797\" xlink:href=\"#ArialMT-61\"/>\n       <use x=\"127.832031\" xlink:href=\"#ArialMT-64\"/>\n       <use x=\"183.447266\" xlink:href=\"#ArialMT-69\"/>\n       <use x=\"205.664062\" xlink:href=\"#ArialMT-6c\"/>\n       <use x=\"227.880859\" xlink:href=\"#ArialMT-6c\"/>\n       <use x=\"250.097656\" xlink:href=\"#ArialMT-61\"/>\n       <use x=\"305.712891\" xlink:href=\"#ArialMT-63\"/>\n      </g>\n     </g>\n    </g>\n    <g id=\"xtick_10\">\n     <g id=\"line2d_10\">\n      <path clip-path=\"url(#pf61c592a7f)\" d=\"M 108.840465 224.64 \nL 108.840465 7.2 \n\" style=\"fill:none;stroke:#ffffff;stroke-linecap:round;\"/>\n     </g>\n     <g id=\"text_10\">\n      <!-- Chevrolet -->\n      <g style=\"fill:#262626;\" transform=\"translate(111.684137 281.214844)rotate(-90)scale(0.11 -0.11)\">\n       <defs>\n        <path d=\"M 422 0 \nL 422 4581 \nL 984 4581 \nL 984 2938 \nQ 1378 3394 1978 3394 \nQ 2347 3394 2619 3248 \nQ 2891 3103 3008 2847 \nQ 3125 2591 3125 2103 \nL 3125 0 \nL 2563 0 \nL 2563 2103 \nQ 2563 2525 2380 2717 \nQ 2197 2909 1863 2909 \nQ 1613 2909 1392 2779 \nQ 1172 2650 1078 2428 \nQ 984 2206 984 1816 \nL 984 0 \nL 422 0 \nz\n\" id=\"ArialMT-68\" transform=\"scale(0.015625)\"/>\n        <path d=\"M 1344 0 \nL 81 3319 \nL 675 3319 \nL 1388 1331 \nQ 1503 1009 1600 663 \nQ 1675 925 1809 1294 \nL 2547 3319 \nL 3125 3319 \nL 1869 0 \nL 1344 0 \nz\n\" id=\"ArialMT-76\" transform=\"scale(0.015625)\"/>\n       </defs>\n       <use xlink:href=\"#ArialMT-43\"/>\n       <use x=\"72.216797\" xlink:href=\"#ArialMT-68\"/>\n       <use x=\"127.832031\" xlink:href=\"#ArialMT-65\"/>\n       <use x=\"183.447266\" xlink:href=\"#ArialMT-76\"/>\n       <use x=\"233.447266\" xlink:href=\"#ArialMT-72\"/>\n       <use x=\"266.748047\" xlink:href=\"#ArialMT-6f\"/>\n       <use x=\"322.363281\" xlink:href=\"#ArialMT-6c\"/>\n       <use x=\"344.580078\" xlink:href=\"#ArialMT-65\"/>\n       <use x=\"400.195312\" xlink:href=\"#ArialMT-74\"/>\n      </g>\n     </g>\n    </g>\n    <g id=\"xtick_11\">\n     <g id=\"line2d_11\">\n      <path clip-path=\"url(#pf61c592a7f)\" d=\"M 115.96387 224.64 \nL 115.96387 7.2 \n\" style=\"fill:none;stroke:#ffffff;stroke-linecap:round;\"/>\n     </g>\n     <g id=\"text_11\">\n      <!-- Chrysler -->\n      <g style=\"fill:#262626;\" transform=\"translate(118.81012 275.0875)rotate(-90)scale(0.11 -0.11)\">\n       <use xlink:href=\"#ArialMT-43\"/>\n       <use x=\"72.216797\" xlink:href=\"#ArialMT-68\"/>\n       <use x=\"127.832031\" xlink:href=\"#ArialMT-72\"/>\n       <use x=\"161.132812\" xlink:href=\"#ArialMT-79\"/>\n       <use x=\"211.132812\" xlink:href=\"#ArialMT-73\"/>\n       <use x=\"261.132812\" xlink:href=\"#ArialMT-6c\"/>\n       <use x=\"283.349609\" xlink:href=\"#ArialMT-65\"/>\n       <use x=\"338.964844\" xlink:href=\"#ArialMT-72\"/>\n      </g>\n     </g>\n    </g>\n    <g id=\"xtick_12\">\n     <g id=\"line2d_12\">\n      <path clip-path=\"url(#pf61c592a7f)\" d=\"M 123.087274 224.64 \nL 123.087274 7.2 \n\" style=\"fill:none;stroke:#ffffff;stroke-linecap:round;\"/>\n     </g>\n     <g id=\"text_12\">\n      <!-- Dodge -->\n      <g style=\"fill:#262626;\" transform=\"translate(125.866493 266.552187)rotate(-90)scale(0.11 -0.11)\">\n       <defs>\n        <path d=\"M 494 0 \nL 494 4581 \nL 2072 4581 \nQ 2606 4581 2888 4516 \nQ 3281 4425 3559 4188 \nQ 3922 3881 4101 3404 \nQ 4281 2928 4281 2316 \nQ 4281 1794 4159 1391 \nQ 4038 988 3847 723 \nQ 3656 459 3429 307 \nQ 3203 156 2883 78 \nQ 2563 0 2147 0 \nL 494 0 \nz\nM 1100 541 \nL 2078 541 \nQ 2531 541 2789 625 \nQ 3047 709 3200 863 \nQ 3416 1078 3536 1442 \nQ 3656 1806 3656 2325 \nQ 3656 3044 3420 3430 \nQ 3184 3816 2847 3947 \nQ 2603 4041 2063 4041 \nL 1100 4041 \nL 1100 541 \nz\n\" id=\"ArialMT-44\" transform=\"scale(0.015625)\"/>\n       </defs>\n       <use xlink:href=\"#ArialMT-44\"/>\n       <use x=\"72.216797\" xlink:href=\"#ArialMT-6f\"/>\n       <use x=\"127.832031\" xlink:href=\"#ArialMT-64\"/>\n       <use x=\"183.447266\" xlink:href=\"#ArialMT-67\"/>\n       <use x=\"239.0625\" xlink:href=\"#ArialMT-65\"/>\n      </g>\n     </g>\n    </g>\n    <g id=\"xtick_13\">\n     <g id=\"line2d_13\">\n      <path clip-path=\"url(#pf61c592a7f)\" d=\"M 130.210678 224.64 \nL 130.210678 7.2 \n\" style=\"fill:none;stroke:#ffffff;stroke-linecap:round;\"/>\n     </g>\n     <g id=\"text_13\">\n      <!-- FIAT -->\n      <g style=\"fill:#262626;\" transform=\"translate(133.05435 257.159219)rotate(-90)scale(0.11 -0.11)\">\n       <defs>\n        <path d=\"M 525 0 \nL 525 4581 \nL 3616 4581 \nL 3616 4041 \nL 1131 4041 \nL 1131 2622 \nL 3281 2622 \nL 3281 2081 \nL 1131 2081 \nL 1131 0 \nL 525 0 \nz\n\" id=\"ArialMT-46\" transform=\"scale(0.015625)\"/>\n        <path d=\"M 597 0 \nL 597 4581 \nL 1203 4581 \nL 1203 0 \nL 597 0 \nz\n\" id=\"ArialMT-49\" transform=\"scale(0.015625)\"/>\n        <path d=\"M 1659 0 \nL 1659 4041 \nL 150 4041 \nL 150 4581 \nL 3781 4581 \nL 3781 4041 \nL 2266 4041 \nL 2266 0 \nL 1659 0 \nz\n\" id=\"ArialMT-54\" transform=\"scale(0.015625)\"/>\n       </defs>\n       <use xlink:href=\"#ArialMT-46\"/>\n       <use x=\"61.083984\" xlink:href=\"#ArialMT-49\"/>\n       <use x=\"88.867188\" xlink:href=\"#ArialMT-41\"/>\n       <use x=\"148.191406\" xlink:href=\"#ArialMT-54\"/>\n      </g>\n     </g>\n    </g>\n    <g id=\"xtick_14\">\n     <g id=\"line2d_14\">\n      <path clip-path=\"url(#pf61c592a7f)\" d=\"M 137.334082 224.64 \nL 137.334082 7.2 \n\" style=\"fill:none;stroke:#ffffff;stroke-linecap:round;\"/>\n     </g>\n     <g id=\"text_14\">\n      <!-- Ferrari -->\n      <g style=\"fill:#262626;\" transform=\"translate(140.177754 266.524687)rotate(-90)scale(0.11 -0.11)\">\n       <use xlink:href=\"#ArialMT-46\"/>\n       <use x=\"61.083984\" xlink:href=\"#ArialMT-65\"/>\n       <use x=\"116.699219\" xlink:href=\"#ArialMT-72\"/>\n       <use x=\"150\" xlink:href=\"#ArialMT-72\"/>\n       <use x=\"183.300781\" xlink:href=\"#ArialMT-61\"/>\n       <use x=\"238.916016\" xlink:href=\"#ArialMT-72\"/>\n       <use x=\"272.216797\" xlink:href=\"#ArialMT-69\"/>\n      </g>\n     </g>\n    </g>\n    <g id=\"xtick_15\">\n     <g id=\"line2d_15\">\n      <path clip-path=\"url(#pf61c592a7f)\" d=\"M 144.457487 224.64 \nL 144.457487 7.2 \n\" style=\"fill:none;stroke:#ffffff;stroke-linecap:round;\"/>\n     </g>\n     <g id=\"text_15\">\n      <!-- Ford -->\n      <g style=\"fill:#262626;\" transform=\"translate(147.301159 256.755312)rotate(-90)scale(0.11 -0.11)\">\n       <use xlink:href=\"#ArialMT-46\"/>\n       <use x=\"61.083984\" xlink:href=\"#ArialMT-6f\"/>\n       <use x=\"116.699219\" xlink:href=\"#ArialMT-72\"/>\n       <use x=\"150\" xlink:href=\"#ArialMT-64\"/>\n      </g>\n     </g>\n    </g>\n    <g id=\"xtick_16\">\n     <g id=\"line2d_16\">\n      <path clip-path=\"url(#pf61c592a7f)\" d=\"M 151.580891 224.64 \nL 151.580891 7.2 \n\" style=\"fill:none;stroke:#ffffff;stroke-linecap:round;\"/>\n     </g>\n     <g id=\"text_16\">\n      <!-- GMC -->\n      <g style=\"fill:#262626;\" transform=\"translate(154.424563 259.802656)rotate(-90)scale(0.11 -0.11)\">\n       <defs>\n        <path d=\"M 2638 1797 \nL 2638 2334 \nL 4578 2338 \nL 4578 638 \nQ 4131 281 3656 101 \nQ 3181 -78 2681 -78 \nQ 2006 -78 1454 211 \nQ 903 500 622 1047 \nQ 341 1594 341 2269 \nQ 341 2938 620 3517 \nQ 900 4097 1425 4378 \nQ 1950 4659 2634 4659 \nQ 3131 4659 3532 4498 \nQ 3934 4338 4162 4050 \nQ 4391 3763 4509 3300 \nL 3963 3150 \nQ 3859 3500 3706 3700 \nQ 3553 3900 3268 4020 \nQ 2984 4141 2638 4141 \nQ 2222 4141 1919 4014 \nQ 1616 3888 1430 3681 \nQ 1244 3475 1141 3228 \nQ 966 2803 966 2306 \nQ 966 1694 1177 1281 \nQ 1388 869 1791 669 \nQ 2194 469 2647 469 \nQ 3041 469 3416 620 \nQ 3791 772 3984 944 \nL 3984 1797 \nL 2638 1797 \nz\n\" id=\"ArialMT-47\" transform=\"scale(0.015625)\"/>\n       </defs>\n       <use xlink:href=\"#ArialMT-47\"/>\n       <use x=\"77.783203\" xlink:href=\"#ArialMT-4d\"/>\n       <use x=\"161.083984\" xlink:href=\"#ArialMT-43\"/>\n      </g>\n     </g>\n    </g>\n    <g id=\"xtick_17\">\n     <g id=\"line2d_17\">\n      <path clip-path=\"url(#pf61c592a7f)\" d=\"M 158.704295 224.64 \nL 158.704295 7.2 \n\" style=\"fill:none;stroke:#ffffff;stroke-linecap:round;\"/>\n     </g>\n     <g id=\"text_17\">\n      <!-- Genesis -->\n      <g style=\"fill:#262626;\" transform=\"translate(161.547967 274.491094)rotate(-90)scale(0.11 -0.11)\">\n       <use xlink:href=\"#ArialMT-47\"/>\n       <use x=\"77.783203\" xlink:href=\"#ArialMT-65\"/>\n       <use x=\"133.398438\" xlink:href=\"#ArialMT-6e\"/>\n       <use x=\"189.013672\" xlink:href=\"#ArialMT-65\"/>\n       <use x=\"244.628906\" xlink:href=\"#ArialMT-73\"/>\n       <use x=\"294.628906\" xlink:href=\"#ArialMT-69\"/>\n       <use x=\"316.845703\" xlink:href=\"#ArialMT-73\"/>\n      </g>\n     </g>\n    </g>\n    <g id=\"xtick_18\">\n     <g id=\"line2d_18\">\n      <path clip-path=\"url(#pf61c592a7f)\" d=\"M 165.827699 224.64 \nL 165.827699 7.2 \n\" style=\"fill:none;stroke:#ffffff;stroke-linecap:round;\"/>\n     </g>\n     <g id=\"text_18\">\n      <!-- HUMMER -->\n      <g style=\"fill:#262626;\" transform=\"translate(168.671371 283.634844)rotate(-90)scale(0.11 -0.11)\">\n       <defs>\n        <path d=\"M 513 0 \nL 513 4581 \nL 1119 4581 \nL 1119 2700 \nL 3500 2700 \nL 3500 4581 \nL 4106 4581 \nL 4106 0 \nL 3500 0 \nL 3500 2159 \nL 1119 2159 \nL 1119 0 \nL 513 0 \nz\n\" id=\"ArialMT-48\" transform=\"scale(0.015625)\"/>\n        <path d=\"M 3500 4581 \nL 4106 4581 \nL 4106 1934 \nQ 4106 1244 3950 837 \nQ 3794 431 3386 176 \nQ 2978 -78 2316 -78 \nQ 1672 -78 1262 144 \nQ 853 366 678 786 \nQ 503 1206 503 1934 \nL 503 4581 \nL 1109 4581 \nL 1109 1938 \nQ 1109 1341 1220 1058 \nQ 1331 775 1601 622 \nQ 1872 469 2263 469 \nQ 2931 469 3215 772 \nQ 3500 1075 3500 1938 \nL 3500 4581 \nz\n\" id=\"ArialMT-55\" transform=\"scale(0.015625)\"/>\n        <path d=\"M 506 0 \nL 506 4581 \nL 3819 4581 \nL 3819 4041 \nL 1113 4041 \nL 1113 2638 \nL 3647 2638 \nL 3647 2100 \nL 1113 2100 \nL 1113 541 \nL 3925 541 \nL 3925 0 \nL 506 0 \nz\n\" id=\"ArialMT-45\" transform=\"scale(0.015625)\"/>\n       </defs>\n       <use xlink:href=\"#ArialMT-48\"/>\n       <use x=\"72.216797\" xlink:href=\"#ArialMT-55\"/>\n       <use x=\"144.433594\" xlink:href=\"#ArialMT-4d\"/>\n       <use x=\"227.734375\" xlink:href=\"#ArialMT-4d\"/>\n       <use x=\"311.035156\" xlink:href=\"#ArialMT-45\"/>\n       <use x=\"377.734375\" xlink:href=\"#ArialMT-52\"/>\n      </g>\n     </g>\n    </g>\n    <g id=\"xtick_19\">\n     <g id=\"line2d_19\">\n      <path clip-path=\"url(#pf61c592a7f)\" d=\"M 172.951104 224.64 \nL 172.951104 7.2 \n\" style=\"fill:none;stroke:#ffffff;stroke-linecap:round;\"/>\n     </g>\n     <g id=\"text_19\">\n      <!-- Honda -->\n      <g style=\"fill:#262626;\" transform=\"translate(175.794776 266.552187)rotate(-90)scale(0.11 -0.11)\">\n       <use xlink:href=\"#ArialMT-48\"/>\n       <use x=\"72.216797\" xlink:href=\"#ArialMT-6f\"/>\n       <use x=\"127.832031\" xlink:href=\"#ArialMT-6e\"/>\n       <use x=\"183.447266\" xlink:href=\"#ArialMT-64\"/>\n       <use x=\"239.0625\" xlink:href=\"#ArialMT-61\"/>\n      </g>\n     </g>\n    </g>\n    <g id=\"xtick_20\">\n     <g id=\"line2d_20\">\n      <path clip-path=\"url(#pf61c592a7f)\" d=\"M 180.074508 224.64 \nL 180.074508 7.2 \n\" style=\"fill:none;stroke:#ffffff;stroke-linecap:round;\"/>\n     </g>\n     <g id=\"text_20\">\n      <!-- Hyundai -->\n      <g style=\"fill:#262626;\" transform=\"translate(182.853727 274.49625)rotate(-90)scale(0.11 -0.11)\">\n       <use xlink:href=\"#ArialMT-48\"/>\n       <use x=\"72.216797\" xlink:href=\"#ArialMT-79\"/>\n       <use x=\"122.216797\" xlink:href=\"#ArialMT-75\"/>\n       <use x=\"177.832031\" xlink:href=\"#ArialMT-6e\"/>\n       <use x=\"233.447266\" xlink:href=\"#ArialMT-64\"/>\n       <use x=\"289.0625\" xlink:href=\"#ArialMT-61\"/>\n       <use x=\"344.677734\" xlink:href=\"#ArialMT-69\"/>\n      </g>\n     </g>\n    </g>\n    <g id=\"xtick_21\">\n     <g id=\"line2d_21\">\n      <path clip-path=\"url(#pf61c592a7f)\" d=\"M 187.197912 224.64 \nL 187.197912 7.2 \n\" style=\"fill:none;stroke:#ffffff;stroke-linecap:round;\"/>\n     </g>\n     <g id=\"text_21\">\n      <!-- Infiniti -->\n      <g style=\"fill:#262626;\" transform=\"translate(190.041584 262.874062)rotate(-90)scale(0.11 -0.11)\">\n       <use xlink:href=\"#ArialMT-49\"/>\n       <use x=\"27.783203\" xlink:href=\"#ArialMT-6e\"/>\n       <use x=\"83.398438\" xlink:href=\"#ArialMT-66\"/>\n       <use x=\"111.181641\" xlink:href=\"#ArialMT-69\"/>\n       <use x=\"133.398438\" xlink:href=\"#ArialMT-6e\"/>\n       <use x=\"189.013672\" xlink:href=\"#ArialMT-69\"/>\n       <use x=\"211.230469\" xlink:href=\"#ArialMT-74\"/>\n       <use x=\"239.013672\" xlink:href=\"#ArialMT-69\"/>\n      </g>\n     </g>\n    </g>\n    <g id=\"xtick_22\">\n     <g id=\"line2d_22\">\n      <path clip-path=\"url(#pf61c592a7f)\" d=\"M 194.321316 224.64 \nL 194.321316 7.2 \n\" style=\"fill:none;stroke:#ffffff;stroke-linecap:round;\"/>\n     </g>\n     <g id=\"text_22\">\n      <!-- Kia -->\n      <g style=\"fill:#262626;\" transform=\"translate(197.164988 250.038437)rotate(-90)scale(0.11 -0.11)\">\n       <defs>\n        <path d=\"M 469 0 \nL 469 4581 \nL 1075 4581 \nL 1075 2309 \nL 3350 4581 \nL 4172 4581 \nL 2250 2725 \nL 4256 0 \nL 3456 0 \nL 1825 2319 \nL 1075 1588 \nL 1075 0 \nL 469 0 \nz\n\" id=\"ArialMT-4b\" transform=\"scale(0.015625)\"/>\n       </defs>\n       <use xlink:href=\"#ArialMT-4b\"/>\n       <use x=\"66.699219\" xlink:href=\"#ArialMT-69\"/>\n       <use x=\"88.916016\" xlink:href=\"#ArialMT-61\"/>\n      </g>\n     </g>\n    </g>\n    <g id=\"xtick_23\">\n     <g id=\"line2d_23\">\n      <path clip-path=\"url(#pf61c592a7f)\" d=\"M 201.444721 224.64 \nL 201.444721 7.2 \n\" style=\"fill:none;stroke:#ffffff;stroke-linecap:round;\"/>\n     </g>\n     <g id=\"text_23\">\n      <!-- Lamborghini -->\n      <g style=\"fill:#262626;\" transform=\"translate(204.223939 294.672656)rotate(-90)scale(0.11 -0.11)\">\n       <defs>\n        <path d=\"M 469 0 \nL 469 4581 \nL 1075 4581 \nL 1075 541 \nL 3331 541 \nL 3331 0 \nL 469 0 \nz\n\" id=\"ArialMT-4c\" transform=\"scale(0.015625)\"/>\n        <path d=\"M 941 0 \nL 419 0 \nL 419 4581 \nL 981 4581 \nL 981 2947 \nQ 1338 3394 1891 3394 \nQ 2197 3394 2470 3270 \nQ 2744 3147 2920 2923 \nQ 3097 2700 3197 2384 \nQ 3297 2069 3297 1709 \nQ 3297 856 2875 390 \nQ 2453 -75 1863 -75 \nQ 1275 -75 941 416 \nL 941 0 \nz\nM 934 1684 \nQ 934 1088 1097 822 \nQ 1363 388 1816 388 \nQ 2184 388 2453 708 \nQ 2722 1028 2722 1663 \nQ 2722 2313 2464 2622 \nQ 2206 2931 1841 2931 \nQ 1472 2931 1203 2611 \nQ 934 2291 934 1684 \nz\n\" id=\"ArialMT-62\" transform=\"scale(0.015625)\"/>\n       </defs>\n       <use xlink:href=\"#ArialMT-4c\"/>\n       <use x=\"55.615234\" xlink:href=\"#ArialMT-61\"/>\n       <use x=\"111.230469\" xlink:href=\"#ArialMT-6d\"/>\n       <use x=\"194.53125\" xlink:href=\"#ArialMT-62\"/>\n       <use x=\"250.146484\" xlink:href=\"#ArialMT-6f\"/>\n       <use x=\"305.761719\" xlink:href=\"#ArialMT-72\"/>\n       <use x=\"339.0625\" xlink:href=\"#ArialMT-67\"/>\n       <use x=\"394.677734\" xlink:href=\"#ArialMT-68\"/>\n       <use x=\"450.292969\" xlink:href=\"#ArialMT-69\"/>\n       <use x=\"472.509766\" xlink:href=\"#ArialMT-6e\"/>\n       <use x=\"528.125\" xlink:href=\"#ArialMT-69\"/>\n      </g>\n     </g>\n    </g>\n    <g id=\"xtick_24\">\n     <g id=\"line2d_24\">\n      <path clip-path=\"url(#pf61c592a7f)\" d=\"M 208.568125 224.64 \nL 208.568125 7.2 \n\" style=\"fill:none;stroke:#ffffff;stroke-linecap:round;\"/>\n     </g>\n     <g id=\"text_24\">\n      <!-- Land Rover -->\n      <g style=\"fill:#262626;\" transform=\"translate(211.411797 291.004844)rotate(-90)scale(0.11 -0.11)\">\n       <use xlink:href=\"#ArialMT-4c\"/>\n       <use x=\"55.615234\" xlink:href=\"#ArialMT-61\"/>\n       <use x=\"111.230469\" xlink:href=\"#ArialMT-6e\"/>\n       <use x=\"166.845703\" xlink:href=\"#ArialMT-64\"/>\n       <use x=\"222.460938\" xlink:href=\"#ArialMT-20\"/>\n       <use x=\"250.244141\" xlink:href=\"#ArialMT-52\"/>\n       <use x=\"322.460938\" xlink:href=\"#ArialMT-6f\"/>\n       <use x=\"378.076172\" xlink:href=\"#ArialMT-76\"/>\n       <use x=\"428.076172\" xlink:href=\"#ArialMT-65\"/>\n       <use x=\"483.691406\" xlink:href=\"#ArialMT-72\"/>\n      </g>\n     </g>\n    </g>\n    <g id=\"xtick_25\">\n     <g id=\"line2d_25\">\n      <path clip-path=\"url(#pf61c592a7f)\" d=\"M 215.691529 224.64 \nL 215.691529 7.2 \n\" style=\"fill:none;stroke:#ffffff;stroke-linecap:round;\"/>\n     </g>\n     <g id=\"text_25\">\n      <!-- Lexus -->\n      <g style=\"fill:#262626;\" transform=\"translate(218.535201 263.491094)rotate(-90)scale(0.11 -0.11)\">\n       <defs>\n        <path d=\"M 47 0 \nL 1259 1725 \nL 138 3319 \nL 841 3319 \nL 1350 2541 \nQ 1494 2319 1581 2169 \nQ 1719 2375 1834 2534 \nL 2394 3319 \nL 3066 3319 \nL 1919 1756 \nL 3153 0 \nL 2463 0 \nL 1781 1031 \nL 1600 1309 \nL 728 0 \nL 47 0 \nz\n\" id=\"ArialMT-78\" transform=\"scale(0.015625)\"/>\n       </defs>\n       <use xlink:href=\"#ArialMT-4c\"/>\n       <use x=\"55.615234\" xlink:href=\"#ArialMT-65\"/>\n       <use x=\"111.230469\" xlink:href=\"#ArialMT-78\"/>\n       <use x=\"161.230469\" xlink:href=\"#ArialMT-75\"/>\n       <use x=\"216.845703\" xlink:href=\"#ArialMT-73\"/>\n      </g>\n     </g>\n    </g>\n    <g id=\"xtick_26\">\n     <g id=\"line2d_26\">\n      <path clip-path=\"url(#pf61c592a7f)\" d=\"M 222.814934 224.64 \nL 222.814934 7.2 \n\" style=\"fill:none;stroke:#ffffff;stroke-linecap:round;\"/>\n     </g>\n     <g id=\"text_26\">\n      <!-- Lincoln -->\n      <g style=\"fill:#262626;\" transform=\"translate(225.658605 268.99625)rotate(-90)scale(0.11 -0.11)\">\n       <use xlink:href=\"#ArialMT-4c\"/>\n       <use x=\"55.615234\" xlink:href=\"#ArialMT-69\"/>\n       <use x=\"77.832031\" xlink:href=\"#ArialMT-6e\"/>\n       <use x=\"133.447266\" xlink:href=\"#ArialMT-63\"/>\n       <use x=\"183.447266\" xlink:href=\"#ArialMT-6f\"/>\n       <use x=\"239.0625\" xlink:href=\"#ArialMT-6c\"/>\n       <use x=\"261.279297\" xlink:href=\"#ArialMT-6e\"/>\n      </g>\n     </g>\n    </g>\n    <g id=\"xtick_27\">\n     <g id=\"line2d_27\">\n      <path clip-path=\"url(#pf61c592a7f)\" d=\"M 229.938338 224.64 \nL 229.938338 7.2 \n\" style=\"fill:none;stroke:#ffffff;stroke-linecap:round;\"/>\n     </g>\n     <g id=\"text_27\">\n      <!-- Lotus -->\n      <g style=\"fill:#262626;\" transform=\"translate(232.78201 261.047031)rotate(-90)scale(0.11 -0.11)\">\n       <use xlink:href=\"#ArialMT-4c\"/>\n       <use x=\"55.615234\" xlink:href=\"#ArialMT-6f\"/>\n       <use x=\"111.230469\" xlink:href=\"#ArialMT-74\"/>\n       <use x=\"139.013672\" xlink:href=\"#ArialMT-75\"/>\n       <use x=\"194.628906\" xlink:href=\"#ArialMT-73\"/>\n      </g>\n     </g>\n    </g>\n    <g id=\"xtick_28\">\n     <g id=\"line2d_28\">\n      <path clip-path=\"url(#pf61c592a7f)\" d=\"M 237.061742 224.64 \nL 237.061742 7.2 \n\" style=\"fill:none;stroke:#ffffff;stroke-linecap:round;\"/>\n     </g>\n     <g id=\"text_28\">\n      <!-- Maserati -->\n      <g style=\"fill:#262626;\" transform=\"translate(239.905414 276.316406)rotate(-90)scale(0.11 -0.11)\">\n       <use xlink:href=\"#ArialMT-4d\"/>\n       <use x=\"83.300781\" xlink:href=\"#ArialMT-61\"/>\n       <use x=\"138.916016\" xlink:href=\"#ArialMT-73\"/>\n       <use x=\"188.916016\" xlink:href=\"#ArialMT-65\"/>\n       <use x=\"244.53125\" xlink:href=\"#ArialMT-72\"/>\n       <use x=\"277.832031\" xlink:href=\"#ArialMT-61\"/>\n       <use x=\"333.447266\" xlink:href=\"#ArialMT-74\"/>\n       <use x=\"361.230469\" xlink:href=\"#ArialMT-69\"/>\n      </g>\n     </g>\n    </g>\n    <g id=\"xtick_29\">\n     <g id=\"line2d_29\">\n      <path clip-path=\"url(#pf61c592a7f)\" d=\"M 244.185146 224.64 \nL 244.185146 7.2 \n\" style=\"fill:none;stroke:#ffffff;stroke-linecap:round;\"/>\n     </g>\n     <g id=\"text_29\">\n      <!-- Maybach -->\n      <g style=\"fill:#262626;\" transform=\"translate(246.964365 278.770781)rotate(-90)scale(0.11 -0.11)\">\n       <use xlink:href=\"#ArialMT-4d\"/>\n       <use x=\"83.300781\" xlink:href=\"#ArialMT-61\"/>\n       <use x=\"138.916016\" xlink:href=\"#ArialMT-79\"/>\n       <use x=\"188.916016\" xlink:href=\"#ArialMT-62\"/>\n       <use x=\"244.53125\" xlink:href=\"#ArialMT-61\"/>\n       <use x=\"300.146484\" xlink:href=\"#ArialMT-63\"/>\n       <use x=\"350.146484\" xlink:href=\"#ArialMT-68\"/>\n      </g>\n     </g>\n    </g>\n    <g id=\"xtick_30\">\n     <g id=\"line2d_30\">\n      <path clip-path=\"url(#pf61c592a7f)\" d=\"M 251.308551 224.64 \nL 251.308551 7.2 \n\" style=\"fill:none;stroke:#ffffff;stroke-linecap:round;\"/>\n     </g>\n     <g id=\"text_30\">\n      <!-- Mazda -->\n      <g style=\"fill:#262626;\" transform=\"translate(254.152222 267.15375)rotate(-90)scale(0.11 -0.11)\">\n       <defs>\n        <path d=\"M 125 0 \nL 125 456 \nL 2238 2881 \nQ 1878 2863 1603 2863 \nL 250 2863 \nL 250 3319 \nL 2963 3319 \nL 2963 2947 \nL 1166 841 \nL 819 456 \nQ 1197 484 1528 484 \nL 3063 484 \nL 3063 0 \nL 125 0 \nz\n\" id=\"ArialMT-7a\" transform=\"scale(0.015625)\"/>\n       </defs>\n       <use xlink:href=\"#ArialMT-4d\"/>\n       <use x=\"83.300781\" xlink:href=\"#ArialMT-61\"/>\n       <use x=\"138.916016\" xlink:href=\"#ArialMT-7a\"/>\n       <use x=\"188.916016\" xlink:href=\"#ArialMT-64\"/>\n       <use x=\"244.53125\" xlink:href=\"#ArialMT-61\"/>\n      </g>\n     </g>\n    </g>\n    <g id=\"xtick_31\">\n     <g id=\"line2d_31\">\n      <path clip-path=\"url(#pf61c592a7f)\" d=\"M 258.431955 224.64 \nL 258.431955 7.2 \n\" style=\"fill:none;stroke:#ffffff;stroke-linecap:round;\"/>\n     </g>\n     <g id=\"text_31\">\n      <!-- McLaren -->\n      <g style=\"fill:#262626;\" transform=\"translate(261.275627 276.933437)rotate(-90)scale(0.11 -0.11)\">\n       <use xlink:href=\"#ArialMT-4d\"/>\n       <use x=\"83.300781\" xlink:href=\"#ArialMT-63\"/>\n       <use x=\"133.300781\" xlink:href=\"#ArialMT-4c\"/>\n       <use x=\"188.916016\" xlink:href=\"#ArialMT-61\"/>\n       <use x=\"244.53125\" xlink:href=\"#ArialMT-72\"/>\n       <use x=\"277.832031\" xlink:href=\"#ArialMT-65\"/>\n       <use x=\"333.447266\" xlink:href=\"#ArialMT-6e\"/>\n      </g>\n     </g>\n    </g>\n    <g id=\"xtick_32\">\n     <g id=\"line2d_32\">\n      <path clip-path=\"url(#pf61c592a7f)\" d=\"M 265.555359 224.64 \nL 265.555359 7.2 \n\" style=\"fill:none;stroke:#ffffff;stroke-linecap:round;\"/>\n     </g>\n     <g id=\"text_32\">\n      <!-- Mercedes-Benz -->\n      <g style=\"fill:#262626;\" transform=\"translate(268.399031 311.1675)rotate(-90)scale(0.11 -0.11)\">\n       <defs>\n        <path d=\"M 203 1375 \nL 203 1941 \nL 1931 1941 \nL 1931 1375 \nL 203 1375 \nz\n\" id=\"ArialMT-2d\" transform=\"scale(0.015625)\"/>\n       </defs>\n       <use xlink:href=\"#ArialMT-4d\"/>\n       <use x=\"83.300781\" xlink:href=\"#ArialMT-65\"/>\n       <use x=\"138.916016\" xlink:href=\"#ArialMT-72\"/>\n       <use x=\"172.216797\" xlink:href=\"#ArialMT-63\"/>\n       <use x=\"222.216797\" xlink:href=\"#ArialMT-65\"/>\n       <use x=\"277.832031\" xlink:href=\"#ArialMT-64\"/>\n       <use x=\"333.447266\" xlink:href=\"#ArialMT-65\"/>\n       <use x=\"389.0625\" xlink:href=\"#ArialMT-73\"/>\n       <use x=\"439.0625\" xlink:href=\"#ArialMT-2d\"/>\n       <use x=\"472.363281\" xlink:href=\"#ArialMT-42\"/>\n       <use x=\"539.0625\" xlink:href=\"#ArialMT-65\"/>\n       <use x=\"594.677734\" xlink:href=\"#ArialMT-6e\"/>\n       <use x=\"650.292969\" xlink:href=\"#ArialMT-7a\"/>\n      </g>\n     </g>\n    </g>\n    <g id=\"xtick_33\">\n     <g id=\"line2d_33\">\n      <path clip-path=\"url(#pf61c592a7f)\" d=\"M 272.678763 224.64 \nL 272.678763 7.2 \n\" style=\"fill:none;stroke:#ffffff;stroke-linecap:round;\"/>\n     </g>\n     <g id=\"text_33\">\n      <!-- Mitsubishi -->\n      <g style=\"fill:#262626;\" transform=\"translate(275.522435 283.041875)rotate(-90)scale(0.11 -0.11)\">\n       <use xlink:href=\"#ArialMT-4d\"/>\n       <use x=\"83.300781\" xlink:href=\"#ArialMT-69\"/>\n       <use x=\"105.517578\" xlink:href=\"#ArialMT-74\"/>\n       <use x=\"133.300781\" xlink:href=\"#ArialMT-73\"/>\n       <use x=\"183.300781\" xlink:href=\"#ArialMT-75\"/>\n       <use x=\"238.916016\" xlink:href=\"#ArialMT-62\"/>\n       <use x=\"294.53125\" xlink:href=\"#ArialMT-69\"/>\n       <use x=\"316.748047\" xlink:href=\"#ArialMT-73\"/>\n       <use x=\"366.748047\" xlink:href=\"#ArialMT-68\"/>\n       <use x=\"422.363281\" xlink:href=\"#ArialMT-69\"/>\n      </g>\n     </g>\n    </g>\n    <g id=\"xtick_34\">\n     <g id=\"line2d_34\">\n      <path clip-path=\"url(#pf61c592a7f)\" d=\"M 279.802168 224.64 \nL 279.802168 7.2 \n\" style=\"fill:none;stroke:#ffffff;stroke-linecap:round;\"/>\n     </g>\n     <g id=\"text_34\">\n      <!-- Nissan -->\n      <g style=\"fill:#262626;\" transform=\"translate(282.645839 267.762187)rotate(-90)scale(0.11 -0.11)\">\n       <defs>\n        <path d=\"M 488 0 \nL 488 4581 \nL 1109 4581 \nL 3516 984 \nL 3516 4581 \nL 4097 4581 \nL 4097 0 \nL 3475 0 \nL 1069 3600 \nL 1069 0 \nL 488 0 \nz\n\" id=\"ArialMT-4e\" transform=\"scale(0.015625)\"/>\n       </defs>\n       <use xlink:href=\"#ArialMT-4e\"/>\n       <use x=\"72.216797\" xlink:href=\"#ArialMT-69\"/>\n       <use x=\"94.433594\" xlink:href=\"#ArialMT-73\"/>\n       <use x=\"144.433594\" xlink:href=\"#ArialMT-73\"/>\n       <use x=\"194.433594\" xlink:href=\"#ArialMT-61\"/>\n       <use x=\"250.048828\" xlink:href=\"#ArialMT-6e\"/>\n      </g>\n     </g>\n    </g>\n    <g id=\"xtick_35\">\n     <g id=\"line2d_35\">\n      <path clip-path=\"url(#pf61c592a7f)\" d=\"M 286.925572 224.64 \nL 286.925572 7.2 \n\" style=\"fill:none;stroke:#ffffff;stroke-linecap:round;\"/>\n     </g>\n     <g id=\"text_35\">\n      <!-- Oldsmobile -->\n      <g style=\"fill:#262626;\" transform=\"translate(289.769244 289.158906)rotate(-90)scale(0.11 -0.11)\">\n       <defs>\n        <path d=\"M 309 2231 \nQ 309 3372 921 4017 \nQ 1534 4663 2503 4663 \nQ 3138 4663 3647 4359 \nQ 4156 4056 4423 3514 \nQ 4691 2972 4691 2284 \nQ 4691 1588 4409 1038 \nQ 4128 488 3612 205 \nQ 3097 -78 2500 -78 \nQ 1853 -78 1343 234 \nQ 834 547 571 1087 \nQ 309 1628 309 2231 \nz\nM 934 2222 \nQ 934 1394 1379 917 \nQ 1825 441 2497 441 \nQ 3181 441 3623 922 \nQ 4066 1403 4066 2288 \nQ 4066 2847 3877 3264 \nQ 3688 3681 3323 3911 \nQ 2959 4141 2506 4141 \nQ 1863 4141 1398 3698 \nQ 934 3256 934 2222 \nz\n\" id=\"ArialMT-4f\" transform=\"scale(0.015625)\"/>\n       </defs>\n       <use xlink:href=\"#ArialMT-4f\"/>\n       <use x=\"77.783203\" xlink:href=\"#ArialMT-6c\"/>\n       <use x=\"100\" xlink:href=\"#ArialMT-64\"/>\n       <use x=\"155.615234\" xlink:href=\"#ArialMT-73\"/>\n       <use x=\"205.615234\" xlink:href=\"#ArialMT-6d\"/>\n       <use x=\"288.916016\" xlink:href=\"#ArialMT-6f\"/>\n       <use x=\"344.53125\" xlink:href=\"#ArialMT-62\"/>\n       <use x=\"400.146484\" xlink:href=\"#ArialMT-69\"/>\n       <use x=\"422.363281\" xlink:href=\"#ArialMT-6c\"/>\n       <use x=\"444.580078\" xlink:href=\"#ArialMT-65\"/>\n      </g>\n     </g>\n    </g>\n    <g id=\"xtick_36\">\n     <g id=\"line2d_36\">\n      <path clip-path=\"url(#pf61c592a7f)\" d=\"M 294.048976 224.64 \nL 294.048976 7.2 \n\" style=\"fill:none;stroke:#ffffff;stroke-linecap:round;\"/>\n     </g>\n     <g id=\"text_36\">\n      <!-- Plymouth -->\n      <g style=\"fill:#262626;\" transform=\"translate(296.828195 279.991094)rotate(-90)scale(0.11 -0.11)\">\n       <defs>\n        <path d=\"M 494 0 \nL 494 4581 \nL 2222 4581 \nQ 2678 4581 2919 4538 \nQ 3256 4481 3484 4323 \nQ 3713 4166 3852 3881 \nQ 3991 3597 3991 3256 \nQ 3991 2672 3619 2267 \nQ 3247 1863 2275 1863 \nL 1100 1863 \nL 1100 0 \nL 494 0 \nz\nM 1100 2403 \nL 2284 2403 \nQ 2872 2403 3119 2622 \nQ 3366 2841 3366 3238 \nQ 3366 3525 3220 3729 \nQ 3075 3934 2838 4000 \nQ 2684 4041 2272 4041 \nL 1100 4041 \nL 1100 2403 \nz\n\" id=\"ArialMT-50\" transform=\"scale(0.015625)\"/>\n       </defs>\n       <use xlink:href=\"#ArialMT-50\"/>\n       <use x=\"66.699219\" xlink:href=\"#ArialMT-6c\"/>\n       <use x=\"88.916016\" xlink:href=\"#ArialMT-79\"/>\n       <use x=\"138.916016\" xlink:href=\"#ArialMT-6d\"/>\n       <use x=\"222.216797\" xlink:href=\"#ArialMT-6f\"/>\n       <use x=\"277.832031\" xlink:href=\"#ArialMT-75\"/>\n       <use x=\"333.447266\" xlink:href=\"#ArialMT-74\"/>\n       <use x=\"361.230469\" xlink:href=\"#ArialMT-68\"/>\n      </g>\n     </g>\n    </g>\n    <g id=\"xtick_37\">\n     <g id=\"line2d_37\">\n      <path clip-path=\"url(#pf61c592a7f)\" d=\"M 301.17238 224.64 \nL 301.17238 7.2 \n\" style=\"fill:none;stroke:#ffffff;stroke-linecap:round;\"/>\n     </g>\n     <g id=\"text_37\">\n      <!-- Pontiac -->\n      <g style=\"fill:#262626;\" transform=\"translate(304.016052 270.828437)rotate(-90)scale(0.11 -0.11)\">\n       <use xlink:href=\"#ArialMT-50\"/>\n       <use x=\"66.699219\" xlink:href=\"#ArialMT-6f\"/>\n       <use x=\"122.314453\" xlink:href=\"#ArialMT-6e\"/>\n       <use x=\"177.929688\" xlink:href=\"#ArialMT-74\"/>\n       <use x=\"205.712891\" xlink:href=\"#ArialMT-69\"/>\n       <use x=\"227.929688\" xlink:href=\"#ArialMT-61\"/>\n       <use x=\"283.544922\" xlink:href=\"#ArialMT-63\"/>\n      </g>\n     </g>\n    </g>\n    <g id=\"xtick_38\">\n     <g id=\"line2d_38\">\n      <path clip-path=\"url(#pf61c592a7f)\" d=\"M 308.295785 224.64 \nL 308.295785 7.2 \n\" style=\"fill:none;stroke:#ffffff;stroke-linecap:round;\"/>\n     </g>\n     <g id=\"text_38\">\n      <!-- Porsche -->\n      <g style=\"fill:#262626;\" transform=\"translate(311.139456 274.491094)rotate(-90)scale(0.11 -0.11)\">\n       <use xlink:href=\"#ArialMT-50\"/>\n       <use x=\"66.699219\" xlink:href=\"#ArialMT-6f\"/>\n       <use x=\"122.314453\" xlink:href=\"#ArialMT-72\"/>\n       <use x=\"155.615234\" xlink:href=\"#ArialMT-73\"/>\n       <use x=\"205.615234\" xlink:href=\"#ArialMT-63\"/>\n       <use x=\"255.615234\" xlink:href=\"#ArialMT-68\"/>\n       <use x=\"311.230469\" xlink:href=\"#ArialMT-65\"/>\n      </g>\n     </g>\n    </g>\n    <g id=\"xtick_39\">\n     <g id=\"line2d_39\">\n      <path clip-path=\"url(#pf61c592a7f)\" d=\"M 315.419189 224.64 \nL 315.419189 7.2 \n\" style=\"fill:none;stroke:#ffffff;stroke-linecap:round;\"/>\n     </g>\n     <g id=\"text_39\">\n      <!-- Rolls-Royce -->\n      <g style=\"fill:#262626;\" transform=\"translate(318.198408 293.43)rotate(-90)scale(0.11 -0.11)\">\n       <use xlink:href=\"#ArialMT-52\"/>\n       <use x=\"72.216797\" xlink:href=\"#ArialMT-6f\"/>\n       <use x=\"127.832031\" xlink:href=\"#ArialMT-6c\"/>\n       <use x=\"150.048828\" xlink:href=\"#ArialMT-6c\"/>\n       <use x=\"172.265625\" xlink:href=\"#ArialMT-73\"/>\n       <use x=\"222.265625\" xlink:href=\"#ArialMT-2d\"/>\n       <use x=\"255.566406\" xlink:href=\"#ArialMT-52\"/>\n       <use x=\"327.783203\" xlink:href=\"#ArialMT-6f\"/>\n       <use x=\"383.398438\" xlink:href=\"#ArialMT-79\"/>\n       <use x=\"433.398438\" xlink:href=\"#ArialMT-63\"/>\n       <use x=\"483.398438\" xlink:href=\"#ArialMT-65\"/>\n      </g>\n     </g>\n    </g>\n    <g id=\"xtick_40\">\n     <g id=\"line2d_40\">\n      <path clip-path=\"url(#pf61c592a7f)\" d=\"M 322.542593 224.64 \nL 322.542593 7.2 \n\" style=\"fill:none;stroke:#ffffff;stroke-linecap:round;\"/>\n     </g>\n     <g id=\"text_40\">\n      <!-- Saab -->\n      <g style=\"fill:#262626;\" transform=\"translate(325.386265 259.828437)rotate(-90)scale(0.11 -0.11)\">\n       <defs>\n        <path d=\"M 288 1472 \nL 859 1522 \nQ 900 1178 1048 958 \nQ 1197 738 1509 602 \nQ 1822 466 2213 466 \nQ 2559 466 2825 569 \nQ 3091 672 3220 851 \nQ 3350 1031 3350 1244 \nQ 3350 1459 3225 1620 \nQ 3100 1781 2813 1891 \nQ 2628 1963 1997 2114 \nQ 1366 2266 1113 2400 \nQ 784 2572 623 2826 \nQ 463 3081 463 3397 \nQ 463 3744 659 4045 \nQ 856 4347 1234 4503 \nQ 1613 4659 2075 4659 \nQ 2584 4659 2973 4495 \nQ 3363 4331 3572 4012 \nQ 3781 3694 3797 3291 \nL 3216 3247 \nQ 3169 3681 2898 3903 \nQ 2628 4125 2100 4125 \nQ 1550 4125 1298 3923 \nQ 1047 3722 1047 3438 \nQ 1047 3191 1225 3031 \nQ 1400 2872 2139 2705 \nQ 2878 2538 3153 2413 \nQ 3553 2228 3743 1945 \nQ 3934 1663 3934 1294 \nQ 3934 928 3725 604 \nQ 3516 281 3123 101 \nQ 2731 -78 2241 -78 \nQ 1619 -78 1198 103 \nQ 778 284 539 648 \nQ 300 1013 288 1472 \nz\n\" id=\"ArialMT-53\" transform=\"scale(0.015625)\"/>\n       </defs>\n       <use xlink:href=\"#ArialMT-53\"/>\n       <use x=\"66.699219\" xlink:href=\"#ArialMT-61\"/>\n       <use x=\"122.314453\" xlink:href=\"#ArialMT-61\"/>\n       <use x=\"177.929688\" xlink:href=\"#ArialMT-62\"/>\n      </g>\n     </g>\n    </g>\n    <g id=\"xtick_41\">\n     <g id=\"line2d_41\">\n      <path clip-path=\"url(#pf61c592a7f)\" d=\"M 329.665997 224.64 \nL 329.665997 7.2 \n\" style=\"fill:none;stroke:#ffffff;stroke-linecap:round;\"/>\n     </g>\n     <g id=\"text_41\">\n      <!-- Scion -->\n      <g style=\"fill:#262626;\" transform=\"translate(332.509669 261.655469)rotate(-90)scale(0.11 -0.11)\">\n       <use xlink:href=\"#ArialMT-53\"/>\n       <use x=\"66.699219\" xlink:href=\"#ArialMT-63\"/>\n       <use x=\"116.699219\" xlink:href=\"#ArialMT-69\"/>\n       <use x=\"138.916016\" xlink:href=\"#ArialMT-6f\"/>\n       <use x=\"194.53125\" xlink:href=\"#ArialMT-6e\"/>\n      </g>\n     </g>\n    </g>\n    <g id=\"xtick_42\">\n     <g id=\"line2d_42\">\n      <path clip-path=\"url(#pf61c592a7f)\" d=\"M 336.789402 224.64 \nL 336.789402 7.2 \n\" style=\"fill:none;stroke:#ffffff;stroke-linecap:round;\"/>\n     </g>\n     <g id=\"text_42\">\n      <!-- Spyker -->\n      <g style=\"fill:#262626;\" transform=\"translate(339.635652 268.374062)rotate(-90)scale(0.11 -0.11)\">\n       <defs>\n        <path d=\"M 422 -1272 \nL 422 3319 \nL 934 3319 \nL 934 2888 \nQ 1116 3141 1344 3267 \nQ 1572 3394 1897 3394 \nQ 2322 3394 2647 3175 \nQ 2972 2956 3137 2557 \nQ 3303 2159 3303 1684 \nQ 3303 1175 3120 767 \nQ 2938 359 2589 142 \nQ 2241 -75 1856 -75 \nQ 1575 -75 1351 44 \nQ 1128 163 984 344 \nL 984 -1272 \nL 422 -1272 \nz\nM 931 1641 \nQ 931 1000 1190 694 \nQ 1450 388 1819 388 \nQ 2194 388 2461 705 \nQ 2728 1022 2728 1688 \nQ 2728 2322 2467 2637 \nQ 2206 2953 1844 2953 \nQ 1484 2953 1207 2617 \nQ 931 2281 931 1641 \nz\n\" id=\"ArialMT-70\" transform=\"scale(0.015625)\"/>\n       </defs>\n       <use xlink:href=\"#ArialMT-53\"/>\n       <use x=\"66.699219\" xlink:href=\"#ArialMT-70\"/>\n       <use x=\"122.314453\" xlink:href=\"#ArialMT-79\"/>\n       <use x=\"172.314453\" xlink:href=\"#ArialMT-6b\"/>\n       <use x=\"222.314453\" xlink:href=\"#ArialMT-65\"/>\n       <use x=\"277.929688\" xlink:href=\"#ArialMT-72\"/>\n      </g>\n     </g>\n    </g>\n    <g id=\"xtick_43\">\n     <g id=\"line2d_43\">\n      <path clip-path=\"url(#pf61c592a7f)\" d=\"M 343.912806 224.64 \nL 343.912806 7.2 \n\" style=\"fill:none;stroke:#ffffff;stroke-linecap:round;\"/>\n     </g>\n     <g id=\"text_43\">\n      <!-- Subaru -->\n      <g style=\"fill:#262626;\" transform=\"translate(346.756478 269.608125)rotate(-90)scale(0.11 -0.11)\">\n       <use xlink:href=\"#ArialMT-53\"/>\n       <use x=\"66.699219\" xlink:href=\"#ArialMT-75\"/>\n       <use x=\"122.314453\" xlink:href=\"#ArialMT-62\"/>\n       <use x=\"177.929688\" xlink:href=\"#ArialMT-61\"/>\n       <use x=\"233.544922\" xlink:href=\"#ArialMT-72\"/>\n       <use x=\"266.845703\" xlink:href=\"#ArialMT-75\"/>\n      </g>\n     </g>\n    </g>\n    <g id=\"xtick_44\">\n     <g id=\"line2d_44\">\n      <path clip-path=\"url(#pf61c592a7f)\" d=\"M 351.03621 224.64 \nL 351.03621 7.2 \n\" style=\"fill:none;stroke:#ffffff;stroke-linecap:round;\"/>\n     </g>\n     <g id=\"text_44\">\n      <!-- Suzuki -->\n      <g style=\"fill:#262626;\" transform=\"translate(353.879882 267.155469)rotate(-90)scale(0.11 -0.11)\">\n       <use xlink:href=\"#ArialMT-53\"/>\n       <use x=\"66.699219\" xlink:href=\"#ArialMT-75\"/>\n       <use x=\"122.314453\" xlink:href=\"#ArialMT-7a\"/>\n       <use x=\"172.314453\" xlink:href=\"#ArialMT-75\"/>\n       <use x=\"227.929688\" xlink:href=\"#ArialMT-6b\"/>\n       <use x=\"277.929688\" xlink:href=\"#ArialMT-69\"/>\n      </g>\n     </g>\n    </g>\n    <g id=\"xtick_45\">\n     <g id=\"line2d_45\">\n      <path clip-path=\"url(#pf61c592a7f)\" d=\"M 358.159614 224.64 \nL 358.159614 7.2 \n\" style=\"fill:none;stroke:#ffffff;stroke-linecap:round;\"/>\n     </g>\n     <g id=\"text_45\">\n      <!-- Toyota -->\n      <g style=\"fill:#262626;\" transform=\"translate(360.938833 266.541875)rotate(-90)scale(0.11 -0.11)\">\n       <use xlink:href=\"#ArialMT-54\"/>\n       <use x=\"49.958984\" xlink:href=\"#ArialMT-6f\"/>\n       <use x=\"105.574219\" xlink:href=\"#ArialMT-79\"/>\n       <use x=\"155.574219\" xlink:href=\"#ArialMT-6f\"/>\n       <use x=\"211.189453\" xlink:href=\"#ArialMT-74\"/>\n       <use x=\"238.972656\" xlink:href=\"#ArialMT-61\"/>\n      </g>\n     </g>\n    </g>\n    <g id=\"xtick_46\">\n     <g id=\"line2d_46\">\n      <path clip-path=\"url(#pf61c592a7f)\" d=\"M 365.283019 224.64 \nL 365.283019 7.2 \n\" style=\"fill:none;stroke:#ffffff;stroke-linecap:round;\"/>\n     </g>\n     <g id=\"text_46\">\n      <!-- Volkswagen -->\n      <g style=\"fill:#262626;\" transform=\"translate(368.062237 292.845625)rotate(-90)scale(0.11 -0.11)\">\n       <defs>\n        <path d=\"M 1803 0 \nL 28 4581 \nL 684 4581 \nL 1875 1253 \nQ 2019 853 2116 503 \nQ 2222 878 2363 1253 \nL 3600 4581 \nL 4219 4581 \nL 2425 0 \nL 1803 0 \nz\n\" id=\"ArialMT-56\" transform=\"scale(0.015625)\"/>\n        <path d=\"M 1034 0 \nL 19 3319 \nL 600 3319 \nL 1128 1403 \nL 1325 691 \nQ 1338 744 1497 1375 \nL 2025 3319 \nL 2603 3319 \nL 3100 1394 \nL 3266 759 \nL 3456 1400 \nL 4025 3319 \nL 4572 3319 \nL 3534 0 \nL 2950 0 \nL 2422 1988 \nL 2294 2553 \nL 1622 0 \nL 1034 0 \nz\n\" id=\"ArialMT-77\" transform=\"scale(0.015625)\"/>\n       </defs>\n       <use xlink:href=\"#ArialMT-56\"/>\n       <use x=\"61.199219\" xlink:href=\"#ArialMT-6f\"/>\n       <use x=\"116.814453\" xlink:href=\"#ArialMT-6c\"/>\n       <use x=\"139.03125\" xlink:href=\"#ArialMT-6b\"/>\n       <use x=\"189.03125\" xlink:href=\"#ArialMT-73\"/>\n       <use x=\"239.03125\" xlink:href=\"#ArialMT-77\"/>\n       <use x=\"311.248047\" xlink:href=\"#ArialMT-61\"/>\n       <use x=\"366.863281\" xlink:href=\"#ArialMT-67\"/>\n       <use x=\"422.478516\" xlink:href=\"#ArialMT-65\"/>\n       <use x=\"478.09375\" xlink:href=\"#ArialMT-6e\"/>\n      </g>\n     </g>\n    </g>\n    <g id=\"xtick_47\">\n     <g id=\"line2d_47\">\n      <path clip-path=\"url(#pf61c592a7f)\" d=\"M 372.406423 224.64 \nL 372.406423 7.2 \n\" style=\"fill:none;stroke:#ffffff;stroke-linecap:round;\"/>\n     </g>\n     <g id=\"text_47\">\n      <!-- Volvo -->\n      <g style=\"fill:#262626;\" transform=\"translate(375.250095 261.050469)rotate(-90)scale(0.11 -0.11)\">\n       <use xlink:href=\"#ArialMT-56\"/>\n       <use x=\"61.199219\" xlink:href=\"#ArialMT-6f\"/>\n       <use x=\"116.814453\" xlink:href=\"#ArialMT-6c\"/>\n       <use x=\"139.03125\" xlink:href=\"#ArialMT-76\"/>\n       <use x=\"189.03125\" xlink:href=\"#ArialMT-6f\"/>\n      </g>\n     </g>\n    </g>\n    <g id=\"text_48\">\n     <!-- Make -->\n     <g style=\"fill:#262626;\" transform=\"translate(193.897187 323.756875)scale(0.12 -0.12)\">\n      <use xlink:href=\"#ArialMT-4d\"/>\n      <use x=\"83.300781\" xlink:href=\"#ArialMT-61\"/>\n      <use x=\"138.916016\" xlink:href=\"#ArialMT-6b\"/>\n      <use x=\"188.916016\" xlink:href=\"#ArialMT-65\"/>\n     </g>\n    </g>\n   </g>\n   <g id=\"matplotlib.axis_2\">\n    <g id=\"ytick_1\">\n     <g id=\"line2d_48\">\n      <path clip-path=\"url(#pf61c592a7f)\" d=\"M 41.168125 224.64 \nL 375.968125 224.64 \n\" style=\"fill:none;stroke:#ffffff;stroke-linecap:round;\"/>\n     </g>\n     <g id=\"text_49\">\n      <!-- 0 -->\n      <g style=\"fill:#262626;\" transform=\"translate(25.551094 228.576797)scale(0.11 -0.11)\">\n       <defs>\n        <path d=\"M 266 2259 \nQ 266 3072 433 3567 \nQ 600 4063 929 4331 \nQ 1259 4600 1759 4600 \nQ 2128 4600 2406 4451 \nQ 2684 4303 2865 4023 \nQ 3047 3744 3150 3342 \nQ 3253 2941 3253 2259 \nQ 3253 1453 3087 958 \nQ 2922 463 2592 192 \nQ 2263 -78 1759 -78 \nQ 1097 -78 719 397 \nQ 266 969 266 2259 \nz\nM 844 2259 \nQ 844 1131 1108 757 \nQ 1372 384 1759 384 \nQ 2147 384 2411 759 \nQ 2675 1134 2675 2259 \nQ 2675 3391 2411 3762 \nQ 2147 4134 1753 4134 \nQ 1366 4134 1134 3806 \nQ 844 3388 844 2259 \nz\n\" id=\"ArialMT-30\" transform=\"scale(0.015625)\"/>\n       </defs>\n       <use xlink:href=\"#ArialMT-30\"/>\n      </g>\n     </g>\n    </g>\n    <g id=\"ytick_2\">\n     <g id=\"line2d_49\">\n      <path clip-path=\"url(#pf61c592a7f)\" d=\"M 41.168125 187.49458 \nL 375.968125 187.49458 \n\" style=\"fill:none;stroke:#ffffff;stroke-linecap:round;\"/>\n     </g>\n     <g id=\"text_50\">\n      <!-- 200 -->\n      <g style=\"fill:#262626;\" transform=\"translate(13.317031 191.431377)scale(0.11 -0.11)\">\n       <defs>\n        <path d=\"M 3222 541 \nL 3222 0 \nL 194 0 \nQ 188 203 259 391 \nQ 375 700 629 1000 \nQ 884 1300 1366 1694 \nQ 2113 2306 2375 2664 \nQ 2638 3022 2638 3341 \nQ 2638 3675 2398 3904 \nQ 2159 4134 1775 4134 \nQ 1369 4134 1125 3890 \nQ 881 3647 878 3216 \nL 300 3275 \nQ 359 3922 746 4261 \nQ 1134 4600 1788 4600 \nQ 2447 4600 2831 4234 \nQ 3216 3869 3216 3328 \nQ 3216 3053 3103 2787 \nQ 2991 2522 2730 2228 \nQ 2469 1934 1863 1422 \nQ 1356 997 1212 845 \nQ 1069 694 975 541 \nL 3222 541 \nz\n\" id=\"ArialMT-32\" transform=\"scale(0.015625)\"/>\n       </defs>\n       <use xlink:href=\"#ArialMT-32\"/>\n       <use x=\"55.615234\" xlink:href=\"#ArialMT-30\"/>\n       <use x=\"111.230469\" xlink:href=\"#ArialMT-30\"/>\n      </g>\n     </g>\n    </g>\n    <g id=\"ytick_3\">\n     <g id=\"line2d_50\">\n      <path clip-path=\"url(#pf61c592a7f)\" d=\"M 41.168125 150.349161 \nL 375.968125 150.349161 \n\" style=\"fill:none;stroke:#ffffff;stroke-linecap:round;\"/>\n     </g>\n     <g id=\"text_51\">\n      <!-- 400 -->\n      <g style=\"fill:#262626;\" transform=\"translate(13.317031 154.285958)scale(0.11 -0.11)\">\n       <defs>\n        <path d=\"M 2069 0 \nL 2069 1097 \nL 81 1097 \nL 81 1613 \nL 2172 4581 \nL 2631 4581 \nL 2631 1613 \nL 3250 1613 \nL 3250 1097 \nL 2631 1097 \nL 2631 0 \nL 2069 0 \nz\nM 2069 1613 \nL 2069 3678 \nL 634 1613 \nL 2069 1613 \nz\n\" id=\"ArialMT-34\" transform=\"scale(0.015625)\"/>\n       </defs>\n       <use xlink:href=\"#ArialMT-34\"/>\n       <use x=\"55.615234\" xlink:href=\"#ArialMT-30\"/>\n       <use x=\"111.230469\" xlink:href=\"#ArialMT-30\"/>\n      </g>\n     </g>\n    </g>\n    <g id=\"ytick_4\">\n     <g id=\"line2d_51\">\n      <path clip-path=\"url(#pf61c592a7f)\" d=\"M 41.168125 113.203741 \nL 375.968125 113.203741 \n\" style=\"fill:none;stroke:#ffffff;stroke-linecap:round;\"/>\n     </g>\n     <g id=\"text_52\">\n      <!-- 600 -->\n      <g style=\"fill:#262626;\" transform=\"translate(13.317031 117.140538)scale(0.11 -0.11)\">\n       <defs>\n        <path d=\"M 3184 3459 \nL 2625 3416 \nQ 2550 3747 2413 3897 \nQ 2184 4138 1850 4138 \nQ 1581 4138 1378 3988 \nQ 1113 3794 959 3422 \nQ 806 3050 800 2363 \nQ 1003 2672 1297 2822 \nQ 1591 2972 1913 2972 \nQ 2475 2972 2870 2558 \nQ 3266 2144 3266 1488 \nQ 3266 1056 3080 686 \nQ 2894 316 2569 119 \nQ 2244 -78 1831 -78 \nQ 1128 -78 684 439 \nQ 241 956 241 2144 \nQ 241 3472 731 4075 \nQ 1159 4600 1884 4600 \nQ 2425 4600 2770 4297 \nQ 3116 3994 3184 3459 \nz\nM 888 1484 \nQ 888 1194 1011 928 \nQ 1134 663 1356 523 \nQ 1578 384 1822 384 \nQ 2178 384 2434 671 \nQ 2691 959 2691 1453 \nQ 2691 1928 2437 2201 \nQ 2184 2475 1800 2475 \nQ 1419 2475 1153 2201 \nQ 888 1928 888 1484 \nz\n\" id=\"ArialMT-36\" transform=\"scale(0.015625)\"/>\n       </defs>\n       <use xlink:href=\"#ArialMT-36\"/>\n       <use x=\"55.615234\" xlink:href=\"#ArialMT-30\"/>\n       <use x=\"111.230469\" xlink:href=\"#ArialMT-30\"/>\n      </g>\n     </g>\n    </g>\n    <g id=\"ytick_5\">\n     <g id=\"line2d_52\">\n      <path clip-path=\"url(#pf61c592a7f)\" d=\"M 41.168125 76.058322 \nL 375.968125 76.058322 \n\" style=\"fill:none;stroke:#ffffff;stroke-linecap:round;\"/>\n     </g>\n     <g id=\"text_53\">\n      <!-- 800 -->\n      <g style=\"fill:#262626;\" transform=\"translate(13.317031 79.995118)scale(0.11 -0.11)\">\n       <defs>\n        <path d=\"M 1131 2484 \nQ 781 2613 612 2850 \nQ 444 3088 444 3419 \nQ 444 3919 803 4259 \nQ 1163 4600 1759 4600 \nQ 2359 4600 2725 4251 \nQ 3091 3903 3091 3403 \nQ 3091 3084 2923 2848 \nQ 2756 2613 2416 2484 \nQ 2838 2347 3058 2040 \nQ 3278 1734 3278 1309 \nQ 3278 722 2862 322 \nQ 2447 -78 1769 -78 \nQ 1091 -78 675 323 \nQ 259 725 259 1325 \nQ 259 1772 486 2073 \nQ 713 2375 1131 2484 \nz\nM 1019 3438 \nQ 1019 3113 1228 2906 \nQ 1438 2700 1772 2700 \nQ 2097 2700 2305 2904 \nQ 2513 3109 2513 3406 \nQ 2513 3716 2298 3927 \nQ 2084 4138 1766 4138 \nQ 1444 4138 1231 3931 \nQ 1019 3725 1019 3438 \nz\nM 838 1322 \nQ 838 1081 952 856 \nQ 1066 631 1291 507 \nQ 1516 384 1775 384 \nQ 2178 384 2440 643 \nQ 2703 903 2703 1303 \nQ 2703 1709 2433 1975 \nQ 2163 2241 1756 2241 \nQ 1359 2241 1098 1978 \nQ 838 1716 838 1322 \nz\n\" id=\"ArialMT-38\" transform=\"scale(0.015625)\"/>\n       </defs>\n       <use xlink:href=\"#ArialMT-38\"/>\n       <use x=\"55.615234\" xlink:href=\"#ArialMT-30\"/>\n       <use x=\"111.230469\" xlink:href=\"#ArialMT-30\"/>\n      </g>\n     </g>\n    </g>\n    <g id=\"ytick_6\">\n     <g id=\"line2d_53\">\n      <path clip-path=\"url(#pf61c592a7f)\" d=\"M 41.168125 38.912902 \nL 375.968125 38.912902 \n\" style=\"fill:none;stroke:#ffffff;stroke-linecap:round;\"/>\n     </g>\n     <g id=\"text_54\">\n      <!-- 1000 -->\n      <g style=\"fill:#262626;\" transform=\"translate(7.2 42.849699)scale(0.11 -0.11)\">\n       <defs>\n        <path d=\"M 2384 0 \nL 1822 0 \nL 1822 3584 \nQ 1619 3391 1289 3197 \nQ 959 3003 697 2906 \nL 697 3450 \nQ 1169 3672 1522 3987 \nQ 1875 4303 2022 4600 \nL 2384 4600 \nL 2384 0 \nz\n\" id=\"ArialMT-31\" transform=\"scale(0.015625)\"/>\n       </defs>\n       <use xlink:href=\"#ArialMT-31\"/>\n       <use x=\"55.615234\" xlink:href=\"#ArialMT-30\"/>\n       <use x=\"111.230469\" xlink:href=\"#ArialMT-30\"/>\n       <use x=\"166.845703\" xlink:href=\"#ArialMT-30\"/>\n      </g>\n     </g>\n    </g>\n   </g>\n   <g id=\"patch_3\">\n    <path clip-path=\"url(#pf61c592a7f)\" d=\"M 42.948976 224.64 \nL 46.510678 224.64 \nL 46.510678 177.836771 \nL 42.948976 177.836771 \nz\n\" style=\"fill:#4c72b0;stroke:#ffffff;stroke-linejoin:miter;\"/>\n   </g>\n   <g id=\"patch_4\">\n    <path clip-path=\"url(#pf61c592a7f)\" d=\"M 50.07238 224.64 \nL 53.634082 224.64 \nL 53.634082 223.711365 \nL 50.07238 223.711365 \nz\n\" style=\"fill:#4c72b0;stroke:#ffffff;stroke-linejoin:miter;\"/>\n   </g>\n   <g id=\"patch_5\">\n    <path clip-path=\"url(#pf61c592a7f)\" d=\"M 57.195785 224.64 \nL 60.757487 224.64 \nL 60.757487 207.36738 \nL 57.195785 207.36738 \nz\n\" style=\"fill:#4c72b0;stroke:#ffffff;stroke-linejoin:miter;\"/>\n   </g>\n   <g id=\"patch_6\">\n    <path clip-path=\"url(#pf61c592a7f)\" d=\"M 64.319189 224.64 \nL 67.880891 224.64 \nL 67.880891 163.721512 \nL 64.319189 163.721512 \nz\n\" style=\"fill:#4c72b0;stroke:#ffffff;stroke-linejoin:miter;\"/>\n   </g>\n   <g id=\"patch_7\">\n    <path clip-path=\"url(#pf61c592a7f)\" d=\"M 71.442593 224.64 \nL 75.004295 224.64 \nL 75.004295 162.607149 \nL 71.442593 162.607149 \nz\n\" style=\"fill:#4c72b0;stroke:#ffffff;stroke-linejoin:miter;\"/>\n   </g>\n   <g id=\"patch_8\">\n    <path clip-path=\"url(#pf61c592a7f)\" d=\"M 78.565997 224.64 \nL 82.127699 224.64 \nL 82.127699 210.896195 \nL 78.565997 210.896195 \nz\n\" style=\"fill:#4c72b0;stroke:#ffffff;stroke-linejoin:miter;\"/>\n   </g>\n   <g id=\"patch_9\">\n    <path clip-path=\"url(#pf61c592a7f)\" d=\"M 85.689402 224.64 \nL 89.251104 224.64 \nL 89.251104 224.082819 \nL 85.689402 224.082819 \nz\n\" style=\"fill:#4c72b0;stroke:#ffffff;stroke-linejoin:miter;\"/>\n   </g>\n   <g id=\"patch_10\">\n    <path clip-path=\"url(#pf61c592a7f)\" d=\"M 92.812806 224.64 \nL 96.374508 224.64 \nL 96.374508 188.237489 \nL 92.812806 188.237489 \nz\n\" style=\"fill:#4c72b0;stroke:#ffffff;stroke-linejoin:miter;\"/>\n   </g>\n   <g id=\"patch_11\">\n    <path clip-path=\"url(#pf61c592a7f)\" d=\"M 99.93621 224.64 \nL 103.497912 224.64 \nL 103.497912 150.906342 \nL 99.93621 150.906342 \nz\n\" style=\"fill:#4c72b0;stroke:#ffffff;stroke-linejoin:miter;\"/>\n   </g>\n   <g id=\"patch_12\">\n    <path clip-path=\"url(#pf61c592a7f)\" d=\"M 107.059614 224.64 \nL 110.621316 224.64 \nL 110.621316 17.554286 \nL 107.059614 17.554286 \nz\n\" style=\"fill:#4c72b0;stroke:#ffffff;stroke-linejoin:miter;\"/>\n   </g>\n   <g id=\"patch_13\">\n    <path clip-path=\"url(#pf61c592a7f)\" d=\"M 114.183019 224.64 \nL 117.744721 224.64 \nL 117.744721 189.909033 \nL 114.183019 189.909033 \nz\n\" style=\"fill:#4c72b0;stroke:#ffffff;stroke-linejoin:miter;\"/>\n   </g>\n   <g id=\"patch_14\">\n    <path clip-path=\"url(#pf61c592a7f)\" d=\"M 121.306423 224.64 \nL 124.868125 224.64 \nL 124.868125 108.374837 \nL 121.306423 108.374837 \nz\n\" style=\"fill:#4c72b0;stroke:#ffffff;stroke-linejoin:miter;\"/>\n   </g>\n   <g id=\"patch_15\">\n    <path clip-path=\"url(#pf61c592a7f)\" d=\"M 128.429827 224.64 \nL 131.991529 224.64 \nL 131.991529 213.682101 \nL 128.429827 213.682101 \nz\n\" style=\"fill:#4c72b0;stroke:#ffffff;stroke-linejoin:miter;\"/>\n   </g>\n   <g id=\"patch_16\">\n    <path clip-path=\"url(#pf61c592a7f)\" d=\"M 135.553231 224.64 \nL 139.114934 224.64 \nL 139.114934 212.010557 \nL 135.553231 212.010557 \nz\n\" style=\"fill:#4c72b0;stroke:#ffffff;stroke-linejoin:miter;\"/>\n   </g>\n   <g id=\"patch_17\">\n    <path clip-path=\"url(#pf61c592a7f)\" d=\"M 142.676636 224.64 \nL 146.238338 224.64 \nL 146.238338 63.428879 \nL 142.676636 63.428879 \nz\n\" style=\"fill:#4c72b0;stroke:#ffffff;stroke-linejoin:miter;\"/>\n   </g>\n   <g id=\"patch_18\">\n    <path clip-path=\"url(#pf61c592a7f)\" d=\"M 149.80004 224.64 \nL 153.361742 224.64 \nL 153.361742 128.990545 \nL 149.80004 128.990545 \nz\n\" style=\"fill:#4c72b0;stroke:#ffffff;stroke-linejoin:miter;\"/>\n   </g>\n   <g id=\"patch_19\">\n    <path clip-path=\"url(#pf61c592a7f)\" d=\"M 156.923444 224.64 \nL 160.485146 224.64 \nL 160.485146 224.082819 \nL 156.923444 224.082819 \nz\n\" style=\"fill:#4c72b0;stroke:#ffffff;stroke-linejoin:miter;\"/>\n   </g>\n   <g id=\"patch_20\">\n    <path clip-path=\"url(#pf61c592a7f)\" d=\"M 164.046848 224.64 \nL 167.608551 224.64 \nL 167.608551 221.482639 \nL 164.046848 221.482639 \nz\n\" style=\"fill:#4c72b0;stroke:#ffffff;stroke-linejoin:miter;\"/>\n   </g>\n   <g id=\"patch_21\">\n    <path clip-path=\"url(#pf61c592a7f)\" d=\"M 171.170253 224.64 \nL 174.731955 224.64 \nL 174.731955 141.619987 \nL 171.170253 141.619987 \nz\n\" style=\"fill:#4c72b0;stroke:#ffffff;stroke-linejoin:miter;\"/>\n   </g>\n   <g id=\"patch_22\">\n    <path clip-path=\"url(#pf61c592a7f)\" d=\"M 178.293657 224.64 \nL 181.855359 224.64 \nL 181.855359 168.364689 \nL 178.293657 168.364689 \nz\n\" style=\"fill:#4c72b0;stroke:#ffffff;stroke-linejoin:miter;\"/>\n   </g>\n   <g id=\"patch_23\">\n    <path clip-path=\"url(#pf61c592a7f)\" d=\"M 185.417061 224.64 \nL 188.978763 224.64 \nL 188.978763 163.350058 \nL 185.417061 163.350058 \nz\n\" style=\"fill:#4c72b0;stroke:#ffffff;stroke-linejoin:miter;\"/>\n   </g>\n   <g id=\"patch_24\">\n    <path clip-path=\"url(#pf61c592a7f)\" d=\"M 192.540465 224.64 \nL 196.102168 224.64 \nL 196.102168 182.665676 \nL 192.540465 182.665676 \nz\n\" style=\"fill:#4c72b0;stroke:#ffffff;stroke-linejoin:miter;\"/>\n   </g>\n   <g id=\"patch_25\">\n    <path clip-path=\"url(#pf61c592a7f)\" d=\"M 199.66387 224.64 \nL 203.225572 224.64 \nL 203.225572 214.982191 \nL 199.66387 214.982191 \nz\n\" style=\"fill:#4c72b0;stroke:#ffffff;stroke-linejoin:miter;\"/>\n   </g>\n   <g id=\"patch_26\">\n    <path clip-path=\"url(#pf61c592a7f)\" d=\"M 206.787274 224.64 \nL 210.348976 224.64 \nL 210.348976 198.081025 \nL 206.787274 198.081025 \nz\n\" style=\"fill:#4c72b0;stroke:#ffffff;stroke-linejoin:miter;\"/>\n   </g>\n   <g id=\"patch_27\">\n    <path clip-path=\"url(#pf61c592a7f)\" d=\"M 213.910678 224.64 \nL 217.47238 224.64 \nL 217.47238 187.123126 \nL 213.910678 187.123126 \nz\n\" style=\"fill:#4c72b0;stroke:#ffffff;stroke-linejoin:miter;\"/>\n   </g>\n   <g id=\"patch_28\">\n    <path clip-path=\"url(#pf61c592a7f)\" d=\"M 221.034082 224.64 \nL 224.595785 224.64 \nL 224.595785 195.666573 \nL 221.034082 195.666573 \nz\n\" style=\"fill:#4c72b0;stroke:#ffffff;stroke-linejoin:miter;\"/>\n   </g>\n   <g id=\"patch_29\">\n    <path clip-path=\"url(#pf61c592a7f)\" d=\"M 228.157487 224.64 \nL 231.719189 224.64 \nL 231.719189 219.253914 \nL 228.157487 219.253914 \nz\n\" style=\"fill:#4c72b0;stroke:#ffffff;stroke-linejoin:miter;\"/>\n   </g>\n   <g id=\"patch_30\">\n    <path clip-path=\"url(#pf61c592a7f)\" d=\"M 235.280891 224.64 \nL 238.842593 224.64 \nL 238.842593 213.867828 \nL 235.280891 213.867828 \nz\n\" style=\"fill:#4c72b0;stroke:#ffffff;stroke-linejoin:miter;\"/>\n   </g>\n   <g id=\"patch_31\">\n    <path clip-path=\"url(#pf61c592a7f)\" d=\"M 242.404295 224.64 \nL 245.965997 224.64 \nL 245.965997 221.668366 \nL 242.404295 221.668366 \nz\n\" style=\"fill:#4c72b0;stroke:#ffffff;stroke-linejoin:miter;\"/>\n   </g>\n   <g id=\"patch_32\">\n    <path clip-path=\"url(#pf61c592a7f)\" d=\"M 249.527699 224.64 \nL 253.089402 224.64 \nL 253.089402 149.79198 \nL 249.527699 149.79198 \nz\n\" style=\"fill:#4c72b0;stroke:#ffffff;stroke-linejoin:miter;\"/>\n   </g>\n   <g id=\"patch_33\">\n    <path clip-path=\"url(#pf61c592a7f)\" d=\"M 256.651104 224.64 \nL 260.212806 224.64 \nL 260.212806 223.711365 \nL 256.651104 223.711365 \nz\n\" style=\"fill:#4c72b0;stroke:#ffffff;stroke-linejoin:miter;\"/>\n   </g>\n   <g id=\"patch_34\">\n    <path clip-path=\"url(#pf61c592a7f)\" d=\"M 263.774508 224.64 \nL 267.33621 224.64 \nL 267.33621 159.264061 \nL 263.774508 159.264061 \nz\n\" style=\"fill:#4c72b0;stroke:#ffffff;stroke-linejoin:miter;\"/>\n   </g>\n   <g id=\"patch_35\">\n    <path clip-path=\"url(#pf61c592a7f)\" d=\"M 270.897912 224.64 \nL 274.459614 224.64 \nL 274.459614 185.637309 \nL 270.897912 185.637309 \nz\n\" style=\"fill:#4c72b0;stroke:#ffffff;stroke-linejoin:miter;\"/>\n   </g>\n   <g id=\"patch_36\">\n    <path clip-path=\"url(#pf61c592a7f)\" d=\"M 278.021316 224.64 \nL 281.583019 224.64 \nL 281.583019 122.86155 \nL 278.021316 122.86155 \nz\n\" style=\"fill:#4c72b0;stroke:#ffffff;stroke-linejoin:miter;\"/>\n   </g>\n   <g id=\"patch_37\">\n    <path clip-path=\"url(#pf61c592a7f)\" d=\"M 285.144721 224.64 \nL 288.706423 224.64 \nL 288.706423 196.780935 \nL 285.144721 196.780935 \nz\n\" style=\"fill:#4c72b0;stroke:#ffffff;stroke-linejoin:miter;\"/>\n   </g>\n   <g id=\"patch_38\">\n    <path clip-path=\"url(#pf61c592a7f)\" d=\"M 292.268125 224.64 \nL 295.829827 224.64 \nL 295.829827 209.410378 \nL 292.268125 209.410378 \nz\n\" style=\"fill:#4c72b0;stroke:#ffffff;stroke-linejoin:miter;\"/>\n   </g>\n   <g id=\"patch_39\">\n    <path clip-path=\"url(#pf61c592a7f)\" d=\"M 299.391529 224.64 \nL 302.953231 224.64 \nL 302.953231 190.09476 \nL 299.391529 190.09476 \nz\n\" style=\"fill:#4c72b0;stroke:#ffffff;stroke-linejoin:miter;\"/>\n   </g>\n   <g id=\"patch_40\">\n    <path clip-path=\"url(#pf61c592a7f)\" d=\"M 306.514934 224.64 \nL 310.076636 224.64 \nL 310.076636 199.381115 \nL 306.514934 199.381115 \nz\n\" style=\"fill:#4c72b0;stroke:#ffffff;stroke-linejoin:miter;\"/>\n   </g>\n   <g id=\"patch_41\">\n    <path clip-path=\"url(#pf61c592a7f)\" d=\"M 313.638338 224.64 \nL 317.20004 224.64 \nL 317.20004 218.88246 \nL 313.638338 218.88246 \nz\n\" style=\"fill:#4c72b0;stroke:#ffffff;stroke-linejoin:miter;\"/>\n   </g>\n   <g id=\"patch_42\">\n    <path clip-path=\"url(#pf61c592a7f)\" d=\"M 320.761742 224.64 \nL 324.323444 224.64 \nL 324.323444 204.024292 \nL 320.761742 204.024292 \nz\n\" style=\"fill:#4c72b0;stroke:#ffffff;stroke-linejoin:miter;\"/>\n   </g>\n   <g id=\"patch_43\">\n    <path clip-path=\"url(#pf61c592a7f)\" d=\"M 327.885146 224.64 \nL 331.446848 224.64 \nL 331.446848 213.496374 \nL 327.885146 213.496374 \nz\n\" style=\"fill:#4c72b0;stroke:#ffffff;stroke-linejoin:miter;\"/>\n   </g>\n   <g id=\"patch_44\">\n    <path clip-path=\"url(#pf61c592a7f)\" d=\"M 335.008551 224.64 \nL 338.570253 224.64 \nL 338.570253 224.082819 \nL 335.008551 224.082819 \nz\n\" style=\"fill:#4c72b0;stroke:#ffffff;stroke-linejoin:miter;\"/>\n   </g>\n   <g id=\"patch_45\">\n    <path clip-path=\"url(#pf61c592a7f)\" d=\"M 342.131955 224.64 \nL 345.693657 224.64 \nL 345.693657 177.093863 \nL 342.131955 177.093863 \nz\n\" style=\"fill:#4c72b0;stroke:#ffffff;stroke-linejoin:miter;\"/>\n   </g>\n   <g id=\"patch_46\">\n    <path clip-path=\"url(#pf61c592a7f)\" d=\"M 349.255359 224.64 \nL 352.817061 224.64 \nL 352.817061 160.00697 \nL 349.255359 160.00697 \nz\n\" style=\"fill:#4c72b0;stroke:#ffffff;stroke-linejoin:miter;\"/>\n   </g>\n   <g id=\"patch_47\">\n    <path clip-path=\"url(#pf61c592a7f)\" d=\"M 356.378763 224.64 \nL 359.940465 224.64 \nL 359.940465 86.644766 \nL 356.378763 86.644766 \nz\n\" style=\"fill:#4c72b0;stroke:#ffffff;stroke-linejoin:miter;\"/>\n   </g>\n   <g id=\"patch_48\">\n    <path clip-path=\"url(#pf61c592a7f)\" d=\"M 363.502168 224.64 \nL 367.06387 224.64 \nL 367.06387 75.129686 \nL 363.502168 75.129686 \nz\n\" style=\"fill:#4c72b0;stroke:#ffffff;stroke-linejoin:miter;\"/>\n   </g>\n   <g id=\"patch_49\">\n    <path clip-path=\"url(#pf61c592a7f)\" d=\"M 370.625572 224.64 \nL 374.187274 224.64 \nL 374.187274 172.450685 \nL 370.625572 172.450685 \nz\n\" style=\"fill:#4c72b0;stroke:#ffffff;stroke-linejoin:miter;\"/>\n   </g>\n   <g id=\"patch_50\">\n    <path d=\"M 41.168125 224.64 \nL 41.168125 7.2 \n\" style=\"fill:none;stroke:#ffffff;stroke-linecap:square;stroke-linejoin:miter;stroke-width:1.25;\"/>\n   </g>\n   <g id=\"patch_51\">\n    <path d=\"M 375.968125 224.64 \nL 375.968125 7.2 \n\" style=\"fill:none;stroke:#ffffff;stroke-linecap:square;stroke-linejoin:miter;stroke-width:1.25;\"/>\n   </g>\n   <g id=\"patch_52\">\n    <path d=\"M 41.168125 224.64 \nL 375.968125 224.64 \n\" style=\"fill:none;stroke:#ffffff;stroke-linecap:square;stroke-linejoin:miter;stroke-width:1.25;\"/>\n   </g>\n   <g id=\"patch_53\">\n    <path d=\"M 41.168125 7.2 \nL 375.968125 7.2 \n\" style=\"fill:none;stroke:#ffffff;stroke-linecap:square;stroke-linejoin:miter;stroke-width:1.25;\"/>\n   </g>\n  </g>\n </g>\n <defs>\n  <clipPath id=\"pf61c592a7f\">\n   <rect height=\"217.44\" width=\"334.8\" x=\"41.168125\" y=\"7.2\"/>\n  </clipPath>\n </defs>\n</svg>\n",
      "image/png": "[encoded data removed]"
     },
     "metadata": {
      "needs_background": "light"
     }
    }
   ],
   "metadata": {}
  },
  {
   "cell_type": "code",
   "execution_count": 12,
   "source": [
    "# Make the cart more legible, by making it a horizontal bar chart, sorting the values, and changing the figure size.\n",
    "\n",
    "\n"
   ],
   "outputs": [],
   "metadata": {}
  },
  {
   "cell_type": "markdown",
   "source": [
    "### Make a timeline line chart in which the x-axis is the year, and the y-axis is the average MSRP.\n",
    "* What's noticeable about it and what do you think the error is...\n"
   ],
   "metadata": {}
  },
  {
   "cell_type": "code",
   "execution_count": 13,
   "source": [
    "# Make a timeline line chart in which the x-axis is the year, and the y-axis is the average MSRP.\n"
   ],
   "outputs": [],
   "metadata": {}
  },
  {
   "cell_type": "markdown",
   "source": [
    "# It seems as though in the years before (and includig) 2000, they were counting in tens.\n",
    "Make a new column that is called `adjusted_price`, that contains all prices, however, for every year before 2000 make it 10x the original MSRP.  \n",
    "   * Hint; you might need to use our old friend `np.where`"
   ],
   "metadata": {}
  },
  {
   "cell_type": "code",
   "execution_count": 14,
   "source": [
    "# Make a column where is 10 when year is less than 2000, else 1.\n",
    "\n",
    "\n",
    "# Multiply the MSRP by the price adjuster.\n",
    "\n"
   ],
   "outputs": [],
   "metadata": {}
  },
  {
   "cell_type": "markdown",
   "source": [
    "# Replot the new adjusted price.  \n",
    "* Make the y-axis start at 0 and go up to 100,000"
   ],
   "metadata": {}
  },
  {
   "cell_type": "code",
   "execution_count": 15,
   "source": [
    "# Plot new prices\n",
    "\n"
   ],
   "outputs": [],
   "metadata": {}
  },
  {
   "cell_type": "markdown",
   "source": [
    "# What are top 5 car makers that make the most expensive cars on average. \n",
    "* I only want the top 5, make sure your answer is the top 5 and only the top 5. (hint, you can use .head())\n",
    "* Use our `adjusted_price` column for this\n",
    "* Hint; you're going to have to do a .groupby to answer this."
   ],
   "metadata": {}
  },
  {
   "cell_type": "code",
   "execution_count": 16,
   "source": [
    "# What are the top 5 car makers make the most expensive cars on average. \n",
    "\n"
   ],
   "outputs": [],
   "metadata": {}
  },
  {
   "cell_type": "markdown",
   "source": [
    "# What are the 5 car makers that have the highest median highway MPG?"
   ],
   "metadata": {}
  },
  {
   "cell_type": "code",
   "execution_count": 17,
   "source": [
    "# Which car makers have the highest median highway MPG?\n",
    "\n"
   ],
   "outputs": [],
   "metadata": {}
  },
  {
   "cell_type": "markdown",
   "source": [
    "# Using `sns.histplot`, make histogram of the adjusted_price of just these car makers.\n",
    "* ['Chevrolet', 'Ford', 'Toyota']\n",
    "* Create a temp_df to store the dataframe of just these values.\n",
    "* Set the 'hue='Make''."
   ],
   "metadata": {}
  },
  {
   "cell_type": "code",
   "execution_count": 19,
   "source": [
    "# Using `sns.histplot`, make histogram of the adjusted_price of just these car makers.\n",
    "\n"
   ],
   "outputs": [],
   "metadata": {}
  },
  {
   "cell_type": "markdown",
   "source": [
    "# Remake the same histogram, but limit the x-axis from 0 to 100,000"
   ],
   "metadata": {}
  },
  {
   "cell_type": "code",
   "execution_count": 20,
   "source": [
    "# Remake the same histogram, but limit the x-axis from 0 to 100,000\n",
    "\n"
   ],
   "outputs": [],
   "metadata": {}
  },
  {
   "cell_type": "markdown",
   "source": [
    "# Plot the relationship between Engine HP and highway MPG"
   ],
   "metadata": {}
  },
  {
   "cell_type": "code",
   "execution_count": 22,
   "source": [
    "# Plot the relationship between Engine HP and highway MPG\n"
   ],
   "outputs": [],
   "metadata": {}
  },
  {
   "cell_type": "markdown",
   "source": [
    "# Using `sns.boxplot`, create a boxplot for the 'Engine HP'"
   ],
   "metadata": {}
  },
  {
   "cell_type": "code",
   "execution_count": 23,
   "source": [
    "# create a boxplot for the 'Engine HP'\n"
   ],
   "outputs": [],
   "metadata": {}
  },
  {
   "cell_type": "markdown",
   "source": [
    "# Make another boxplot for highway MPG"
   ],
   "metadata": {}
  },
  {
   "cell_type": "code",
   "execution_count": 24,
   "source": [
    "# create a boxplot for the 'highway MPG'\n"
   ],
   "outputs": [],
   "metadata": {}
  },
  {
   "cell_type": "markdown",
   "source": [
    "# Remove any  outliers from Engine HP and highway MPG \n",
    "\n",
    "<img src='https://miro.medium.com/max/1400/1*2c21SkzJMf3frPXPAR_gZA.png' width=500>\n",
    "\n",
    "* Outliers meaning values that are outside 1.5x the Inter Quartile Range (see image above).\n",
    "* For each column (Engine HP and highway MPG):\n",
    "* Calculate the 0.25 and 0.75 Quantiles\n",
    "* Calculate the Inter Quartile Range (IQR)\n",
    "* Create condition mask for the values that are outliers below (in the 'Minimum' range).\n",
    "* Create condition mask for the values that are outliers above (in the 'Maximum' range).\n",
    "* Filter the dataframe to remove any values that are in the above section _OR_ the below section. (hint; it may be easier to use the inverse selection '~'.\n",
    "* Make the same boxplots of Engine HP and Highway MPG as before but with the this dataframe."
   ],
   "metadata": {}
  },
  {
   "cell_type": "code",
   "execution_count": 25,
   "source": [
    "# Remove any  outliers from Engine HP and highway MPG \n"
   ],
   "outputs": [],
   "metadata": {}
  },
  {
   "cell_type": "markdown",
   "source": [
    "# Remake the boxplots for both Engine HP and highway MPG\n"
   ],
   "metadata": {}
  },
  {
   "cell_type": "code",
   "execution_count": 26,
   "source": [
    "# Engine HP boxplot\n"
   ],
   "outputs": [],
   "metadata": {}
  },
  {
   "cell_type": "code",
   "execution_count": 27,
   "source": [
    "# highway MPG boxplot\n",
    "\n"
   ],
   "outputs": [],
   "metadata": {}
  },
  {
   "cell_type": "markdown",
   "source": [
    "# Make a scatter plot of Engine HP vs highway MPG"
   ],
   "metadata": {}
  },
  {
   "cell_type": "code",
   "execution_count": 28,
   "source": [
    "# Make a scatter plot of Engine HP vs highway MPG\n"
   ],
   "outputs": [],
   "metadata": {}
  },
  {
   "cell_type": "markdown",
   "source": [
    "# What does this plot tell you about how Engine HP affects highway MPG?"
   ],
   "metadata": {}
  },
  {
   "cell_type": "code",
   "execution_count": 34,
   "source": [
    "# What does this plot tell you about how Engine HP affects highway MPG?\n",
    "\n",
    "print('Your answer here.')"
   ],
   "outputs": [
    {
     "output_type": "stream",
     "name": "stdout",
     "text": [
      "Your answer here.\n"
     ]
    }
   ],
   "metadata": {}
  },
  {
   "cell_type": "markdown",
   "source": [
    "# Using a pairplot, display all of the linear relationship.\n",
    "* Which variables look like they have the strongest linear relationship (Besides MSRP and adjusted_price)."
   ],
   "metadata": {}
  },
  {
   "cell_type": "code",
   "execution_count": 30,
   "source": [
    "# Using a pairplot, display all of the linear relationship.\n",
    "\n"
   ],
   "outputs": [],
   "metadata": {}
  },
  {
   "cell_type": "code",
   "execution_count": 31,
   "source": [
    "# * Which variables look like they have the strongest linear relationship (Besides MSRP and adjusted_price).\n",
    "\n"
   ],
   "outputs": [],
   "metadata": {}
  },
  {
   "cell_type": "markdown",
   "source": [
    "# Find which features actually have the strongest linear relationship using correlations.\n",
    "* Make a heatmap plot of all of the correlations in our dataset.\n",
    "* Change the figure size of our heatmap plot to be 8x8\n",
    "* __Which feature does Engine HP have the strongest relationship with, and why do you think that relationship exists.__"
   ],
   "metadata": {}
  },
  {
   "cell_type": "code",
   "execution_count": 32,
   "source": [
    "# * Make a heatmap plot of all of the correlations in our dataset.\n",
    "# * Change the figure size of our heatmap plot to be 8x8\n",
    "\n",
    "\n"
   ],
   "outputs": [],
   "metadata": {}
  },
  {
   "cell_type": "code",
   "execution_count": 33,
   "source": [
    "# Which feature does Engine HP have the strongest relationship with, and why do you think that relationship exists.\n",
    "\n",
    "print('Your answer here')"
   ],
   "outputs": [
    {
     "output_type": "stream",
     "name": "stdout",
     "text": [
      "Your answer here\n"
     ]
    }
   ],
   "metadata": {}
  },
  {
   "cell_type": "markdown",
   "source": [
    "# [EXTRA CREDIT] \n",
    "* In the column names, replace all the spaces with an underscore, and make them all lowercase as well\n"
   ],
   "metadata": {}
  },
  {
   "cell_type": "code",
   "execution_count": 35,
   "source": [
    "# * In the column names, replace all the spaces with an underscore, and make them all lowercase as well\n",
    "\n"
   ],
   "outputs": [],
   "metadata": {}
  },
  {
   "cell_type": "code",
   "execution_count": null,
   "source": [],
   "outputs": [],
   "metadata": {}
  }
 ],
 "metadata": {
  "kernelspec": {
   "name": "python3",
   "display_name": "Python 3.9.6 64-bit"
  },
  "language_info": {
   "codemirror_mode": {
    "name": "ipython",
    "version": 3
   },
   "file_extension": ".py",
   "mimetype": "text/x-python",
   "name": "python",
   "nbconvert_exporter": "python",
   "pygments_lexer": "ipython3",
   "version": "3.9.6"
  },
  "interpreter": {
   "hash": "aee8b7b246df8f9039afb4144a1f6fd8d2ca17a180786b69acc140d282b71a49"
  }
 },
 "nbformat": 4,
 "nbformat_minor": 2
}